{
 "metadata": {
  "name": "Python for Data Analysis"
 },
 "nbformat": 3,
 "nbformat_minor": 0,
 "worksheets": [
  {
   "cells": [
    {
     "cell_type": "code",
     "collapsed": false,
     "input": [
      "from pandas import DataFrame, Series"
     ],
     "language": "python",
     "metadata": {},
     "outputs": []
    },
    {
     "cell_type": "heading",
     "level": 1,
     "metadata": {},
     "source": [
      "Chapter 2"
     ]
    },
    {
     "cell_type": "heading",
     "level": 2,
     "metadata": {},
     "source": [
      "1.usa.gov data from bit.ly"
     ]
    },
    {
     "cell_type": "code",
     "collapsed": false,
     "input": [
      "path = 'C:\\Users\\hdrojas\\Desktop\\Python\\Python Book\\pydata-book-master\\ch02\\usagov_bitly_data2012-03-16-1331923249.txt'"
     ],
     "language": "python",
     "metadata": {},
     "outputs": []
    },
    {
     "cell_type": "code",
     "collapsed": false,
     "input": [
      "# What does the python build in function open do?\n",
      "open?"
     ],
     "language": "python",
     "metadata": {},
     "outputs": []
    },
    {
     "cell_type": "code",
     "collapsed": false,
     "input": [
      "# Read first line of file\n",
      "open(path).readline()"
     ],
     "language": "python",
     "metadata": {},
     "outputs": []
    },
    {
     "cell_type": "code",
     "collapsed": false,
     "input": [
      "# The file above is in JSON format (a common form of web data)\n",
      "# Convert JSON string into a Python dictionary\n",
      "\n",
      "import json\n",
      "\n",
      "# what does this function do?\n",
      "json.loads?"
     ],
     "language": "python",
     "metadata": {},
     "outputs": []
    },
    {
     "cell_type": "code",
     "collapsed": false,
     "input": [
      "# open(path) - Opens the text file\n",
      "# for line in open(path) - Will iterate through every line in the text file\n",
      "# json.loads(line) - For every line convert from JSON to dictionary\n",
      "records = [json.loads(line) for line in open(path)]\n",
      "\n",
      "# Print first record\n",
      "records[0]"
     ],
     "language": "python",
     "metadata": {},
     "outputs": []
    },
    {
     "cell_type": "code",
     "collapsed": false,
     "input": [
      "# We can now grab individual values within records\n",
      "records[0]['tz']\n",
      "\n",
      "# The u here in front of the quotation stands for unicode"
     ],
     "language": "python",
     "metadata": {},
     "outputs": []
    },
    {
     "cell_type": "code",
     "collapsed": false,
     "input": [
      "# The print function will ommit the \"u\"\n",
      "print records[0]['tz']"
     ],
     "language": "python",
     "metadata": {},
     "outputs": []
    },
    {
     "cell_type": "heading",
     "level": 2,
     "metadata": {},
     "source": [
      "Counting Time Zones with Pandas"
     ]
    },
    {
     "cell_type": "code",
     "collapsed": false,
     "input": [
      "# Count the most often occuring time zones in the data set\n",
      "\n",
      "# records - This is the data set we just converted to a python dic from the JSON format\n",
      "# for rec in records - Will iterate through every line in the dictionary\n",
      "# rec['tz'] - For every line, just pull the value in \"tz\" and stick it in the list named time_zones\n",
      "time_zones = [rec['tz'] for rec in records]\n",
      "\n",
      "# This will fail since not all of the records have a time zone field (tz)"
     ],
     "language": "python",
     "metadata": {},
     "outputs": []
    },
    {
     "cell_type": "code",
     "collapsed": false,
     "input": [
      "# Add a constraint to the list comprehension to only grab records that have a time zone field\n",
      "time_zones = [rec['tz'] for rec in records if 'tz' in rec]\n",
      "\n",
      "# [:10] - Means grab the first 10 records\n",
      "time_zones[:10]\n",
      "\n",
      "# Notice that some of the records are null/blank/missing"
     ],
     "language": "python",
     "metadata": {},
     "outputs": []
    },
    {
     "cell_type": "code",
     "collapsed": false,
     "input": [
      "# The main pandas data structure is the DataFrame, which you can think of as representing\n",
      "# a table or spreadsheet of data.\n",
      "\n",
      "# Create a DataFrame and add the records data set to it\n",
      "frame = DataFrame(records)\n",
      "frame\n",
      "\n",
      "# Notice that instead of the data being shown you get a summary of the data.\n",
      "# This happens when the data set is large"
     ],
     "language": "python",
     "metadata": {},
     "outputs": []
    },
    {
     "cell_type": "code",
     "collapsed": false,
     "input": [
      "# Select some data from df\n",
      "frame['tz'][:10]"
     ],
     "language": "python",
     "metadata": {},
     "outputs": []
    },
    {
     "cell_type": "code",
     "collapsed": false,
     "input": [
      "# Count the number of records per time zone\n",
      "\n",
      "# We will be using the following function\n",
      "value_counts?"
     ],
     "language": "python",
     "metadata": {},
     "outputs": []
    },
    {
     "cell_type": "code",
     "collapsed": false,
     "input": [
      "frame['tz'].value_counts()\n",
      "\n",
      "# Notice the second record has no label, these are 521 missing values"
     ],
     "language": "python",
     "metadata": {},
     "outputs": []
    },
    {
     "cell_type": "code",
     "collapsed": false,
     "input": [
      "# We can deal with missing values\n",
      "\n",
      "# We will be using\n",
      "frame.fillna?"
     ],
     "language": "python",
     "metadata": {},
     "outputs": []
    },
    {
     "cell_type": "code",
     "collapsed": false,
     "input": [
      "# Create a new DataFrame\n",
      "clean_tz = frame['tz'].fillna('Missing')\n",
      "clean_tz"
     ],
     "language": "python",
     "metadata": {},
     "outputs": []
    },
    {
     "cell_type": "code",
     "collapsed": false,
     "input": [
      "# Replace missing values with the text \"Unknown\"\n",
      "clean_tz[clean_tz == ''] = 'Unknown'\n",
      "clean_tz"
     ],
     "language": "python",
     "metadata": {},
     "outputs": []
    },
    {
     "cell_type": "code",
     "collapsed": false,
     "input": [
      "# Create a new DataFrame to recount the time zones\n",
      "tz_counts = clean_tz.value_counts()\n",
      "tz_counts[:10]\n",
      "\n",
      "# Remember:\n",
      "#frame - Original DataFrame that included all the records we convert from JSON format\n",
      "#clean_tz - New DataFrame that only included the \"tz\" column"
     ],
     "language": "python",
     "metadata": {},
     "outputs": []
    },
    {
     "cell_type": "code",
     "collapsed": false,
     "input": [],
     "language": "python",
     "metadata": {},
     "outputs": []
    }
   ],
   "metadata": {}
  }
 ]
}