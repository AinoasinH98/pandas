{
 "metadata": {
  "name": "Export to Many Formats from SQL"
 },
 "nbformat": 3,
 "nbformat_minor": 0,
 "worksheets": [
  {
   "cells": [
    {
     "cell_type": "code",
     "collapsed": false,
     "input": [
      "# Import libraries\n",
      "from pandas import DataFrame\n",
      "from sqlalchemy import create_engine, MetaData, Table, select"
     ],
     "language": "python",
     "metadata": {},
     "outputs": [],
     "prompt_number": 1
    },
    {
     "cell_type": "markdown",
     "metadata": {},
     "source": [
      "# Grab Data from SQL  \n",
      "\n",
      "In this section we use the ***sqlalchemy*** library to grab data from ADEPT. The table we are concerned about is located in the *Marketing* database and called *IEICustomerCounts*. Cindea/Karen are the team members that maintain this table and BI is just mainly using the data in the table. This table is the source of the data behind the customer count numbers Brad in sales uses. "
     ]
    },
    {
     "cell_type": "code",
     "collapsed": false,
     "input": [
      "# Parameters\n",
      "ServerName = \"RepSer2\"\n",
      "Database = \"BizIntel\"\n",
      "TableName = \"DimDate\"\n",
      "\n",
      "# Create the connection\n",
      "engine = create_engine('mssql+pyodbc://' + ServerName + '/' + Database)\n",
      "conn = engine.connect()\n",
      "\n",
      "# Required for querying tables\n",
      "metadata = MetaData(conn)\n",
      "\n",
      "# Table to query\n",
      "tbl = Table(TableName, metadata, autoload=True, schema=\"dbo\")\n",
      "#tbl.create(checkfirst=True)\n",
      "\n",
      "# Select all\n",
      "sql = tbl.select()\n",
      "\n",
      "# run sql code\n",
      "result = conn.execute(sql)\n",
      "\n",
      "# Insert to a dataframe\n",
      "df = DataFrame(data=list(result), columns=result.keys())\n",
      "\n",
      "# Close connection\n",
      "conn.close()\n",
      "\n",
      "print 'Done'"
     ],
     "language": "python",
     "metadata": {},
     "outputs": [
      {
       "output_type": "stream",
       "stream": "stdout",
       "text": [
        "Done\n"
       ]
      }
     ],
     "prompt_number": 2
    },
    {
     "cell_type": "markdown",
     "metadata": {},
     "source": [
      "# Export to CSV\n"
     ]
    },
    {
     "cell_type": "code",
     "collapsed": false,
     "input": [
      "df.to_csv('DimDate.csv', index=False)\n",
      "print 'Done'"
     ],
     "language": "python",
     "metadata": {},
     "outputs": [
      {
       "output_type": "stream",
       "stream": "stdout",
       "text": [
        "Done\n"
       ]
      }
     ],
     "prompt_number": 3
    },
    {
     "cell_type": "markdown",
     "metadata": {},
     "source": [
      "# Export to EXCEL"
     ]
    },
    {
     "cell_type": "code",
     "collapsed": false,
     "input": [
      "df.to_excel('DimDate.xls', index=False)\n",
      "print 'Done'"
     ],
     "language": "python",
     "metadata": {},
     "outputs": [
      {
       "output_type": "stream",
       "stream": "stdout",
       "text": [
        "Done\n"
       ]
      }
     ],
     "prompt_number": 4
    },
    {
     "cell_type": "markdown",
     "metadata": {},
     "source": [
      "# Export to TXT"
     ]
    },
    {
     "cell_type": "code",
     "collapsed": false,
     "input": [
      "df.to_csv('DimDate.txt', index=False)\n",
      "print 'Done'"
     ],
     "language": "python",
     "metadata": {},
     "outputs": [
      {
       "output_type": "stream",
       "stream": "stdout",
       "text": [
        "Done\n"
       ]
      }
     ],
     "prompt_number": 5
    }
   ],
   "metadata": {}
  }
 ]
}