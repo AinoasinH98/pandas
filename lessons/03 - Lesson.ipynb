{
 "metadata": {
  "name": "03 - Lesson"
 },
 "nbformat": 3,
 "nbformat_minor": 0,
 "worksheets": [
  {
   "cells": [
    {
     "cell_type": "markdown",
     "metadata": {},
     "source": [
      "# Lesson 3  \n",
      "**Get Data** - Our data set will consist of an Excel file containing customer counts per date. We will learn how to read in the excel file for processing.  \n",
      "**Prepare Data** - The data is an irregular time series having duplicate dates. We will be challenged in compressing the data and comming up with next years forecasted customer count.  \n",
      "**Analyze Data** - We use graphs to visualize trends and spot outliers. Some built in computatiopnal tools will be used to calculate next years forecasted customer count.  \n",
      "**Present Data** - The results will be graphed.  \n",
      "\n",
      "***NOTE:\n",
      "Make sure you have looked through all previous lessons as the knowledge learned in previous lessons will be\n",
      "needed for this exercise.***"
     ]
    },
    {
     "cell_type": "code",
     "collapsed": false,
     "input": [
      "# Import libraries\n",
      "from pandas import ExcelFile, DataFrame, concat, date_range\n",
      "import pandas as pd\n",
      "import matplotlib.pyplot as plt\n",
      "import numpy as np"
     ],
     "language": "python",
     "metadata": {},
     "outputs": []
    },
    {
     "cell_type": "code",
     "collapsed": false,
     "input": [
      "print 'Pandas version: ' + pd.__version__"
     ],
     "language": "python",
     "metadata": {},
     "outputs": []
    },
    {
     "cell_type": "markdown",
     "metadata": {},
     "source": [
      "We will be creating our own test data for analysis."
     ]
    },
    {
     "cell_type": "code",
     "collapsed": false,
     "input": [
      "# Function to generate test data\n",
      "def CreateDataSet(Number=1):\n",
      "    \n",
      "    Output = []\n",
      "    \n",
      "    for i in range(Number):\n",
      "        \n",
      "        # Create a weekly (mondays) date range\n",
      "        rng = date_range(start='1/1/2009', end='12/31/2012', freq='W@MON')\n",
      "        \n",
      "        # Create random data\n",
      "        data = np.random.randint(low=25,high=1000,size=len(rng))\n",
      "        \n",
      "        # Status pool\n",
      "        status = [1,2,3]\n",
      "        \n",
      "        # Make a random list of statuses\n",
      "        seed(i)\n",
      "        random_status = [status[randint(low=0,high=len(status))] for i in range(len(rng))]\n",
      "        \n",
      "        # State pool\n",
      "        states = ['GA','FL','fl','NY','NJ','TX']\n",
      "        \n",
      "        # Make a random list of states \n",
      "        random_states = [states[randint(low=0,high=len(states))] for i in range(len(rng))]\n",
      "    \n",
      "        Output.extend(zip(random_states, random_status, data, rng))\n",
      "        \n",
      "    return Output"
     ],
     "language": "python",
     "metadata": {},
     "outputs": []
    },
    {
     "cell_type": "markdown",
     "metadata": {},
     "source": [
      "Now that we have a function to generate our test data, lets create some data and stick it into a dataframe."
     ]
    },
    {
     "cell_type": "code",
     "collapsed": false,
     "input": [
      "dataset = CreateDataSet(4)\n",
      "df = DataFrame(data=dataset, columns=['State','Status','CustomerCount','StatusDate'])\n",
      "df"
     ],
     "language": "python",
     "metadata": {},
     "outputs": []
    },
    {
     "cell_type": "markdown",
     "metadata": {},
     "source": [
      "We are now going to save this dataframe into an Excel file, to then bring it back to a dataframe. We simply do this to show you how to read and write to excel files.  \n",
      "\n",
      "We do not write the index values of the dataframe to the excel file since they are no meant to be part of our initial test data set."
     ]
    },
    {
     "cell_type": "code",
     "collapsed": false,
     "input": [
      "# Save results to excel\n",
      "df.to_excel('Lesson3.xlsx', index=False)\n",
      "print 'Done'"
     ],
     "language": "python",
     "metadata": {},
     "outputs": []
    },
    {
     "cell_type": "markdown",
     "metadata": {},
     "source": [
      "# Grab Data from Excel  \n",
      "\n",
      "We will be using the ***ExcelFile*** function and the ***parse*** function to read in data from an excel file. The *ExcelFile* function creates an object and *parse* will help with the actually parsing of the file. Lets take a loook at both of these.  \n",
      "\n",
      "**ExcelFile:**  \n",
      "Parameters  \n",
      "path : string or file-like objec, Path to xls file  \n",
      "kind : {'xls', 'xlsx', None}, default None  \n",
      "Definition:ExcelFile(self, path_or_buf)  \n",
      "\n",
      "**parse:**  \n",
      "Definition: ExcelFile.parse(self, sheetname, header=0, skiprows=None, skip_footer=0, index_col=None, parse_cols=None, parse_dates=False, date_parser=None,   na_values=None, thousands=None, chunksize=None, **kwds)  \n",
      "Docstring: Read Excel table into DataFrame  "
     ]
    },
    {
     "cell_type": "code",
     "collapsed": false,
     "input": [
      "ExcelFile?"
     ],
     "language": "python",
     "metadata": {},
     "outputs": []
    },
    {
     "cell_type": "code",
     "collapsed": false,
     "input": [
      "ExcelFile.parse?"
     ],
     "language": "python",
     "metadata": {},
     "outputs": []
    },
    {
     "cell_type": "markdown",
     "metadata": {},
     "source": [
      "**Note: The location on the excel file will be in the same folder as the notebook unless specified otherwise.**"
     ]
    },
    {
     "cell_type": "code",
     "collapsed": false,
     "input": [
      "# Location of file\n",
      "Location = r'C:\\Users\\David\\.xy\\startups\\Lesson3.xlsx'\n",
      "\n",
      "# Create ExcelFile object\n",
      "xlsx = ExcelFile(Location)\n",
      "\n",
      "# Parse a specific sheet\n",
      "df = xlsx.parse('sheet1',index_col='StatusDate')\n",
      "df.dtypes"
     ],
     "language": "python",
     "metadata": {},
     "outputs": []
    },
    {
     "cell_type": "code",
     "collapsed": false,
     "input": [
      "df.index"
     ],
     "language": "python",
     "metadata": {},
     "outputs": []
    },
    {
     "cell_type": "markdown",
     "metadata": {},
     "source": [
      "As you can see the first problem we have here is that the column ***Status*** and the column ***CustomerCount*** are of data type *float64*. We would rather have these columns be an ***int*** data type. Below we will simply solve this issue by casting the columns to their appropriate type."
     ]
    },
    {
     "cell_type": "code",
     "collapsed": false,
     "input": [
      "# Convert data types \n",
      "df.Status = df.Status.astype('int')\n",
      "df.CustomerCount = df.CustomerCount.astype('int')\n",
      "print 'Data Types'\n",
      "print df.dtypes"
     ],
     "language": "python",
     "metadata": {},
     "outputs": []
    },
    {
     "cell_type": "code",
     "collapsed": false,
     "input": [
      "df.head()"
     ],
     "language": "python",
     "metadata": {},
     "outputs": []
    },
    {
     "cell_type": "markdown",
     "metadata": {},
     "source": [
      "# Prepare Data  \n",
      "\n",
      "This section attempts to clean up the data for analysis.  \n",
      "1. Make sure the state column is all in upper case  \n",
      "2. Only select records where the account status is equal to \"1\"  \n",
      "3. Merge (NJ and NY) to NY in the state column  \n",
      "4. Remove any outliers (any odd results in the data set)\n"
     ]
    },
    {
     "cell_type": "markdown",
     "metadata": {},
     "source": [
      "Lets take a quick look on how some of the *State* values are upper case and some are lower case"
     ]
    },
    {
     "cell_type": "code",
     "collapsed": false,
     "input": [
      "df['State'].unique()"
     ],
     "language": "python",
     "metadata": {},
     "outputs": []
    },
    {
     "cell_type": "markdown",
     "metadata": {},
     "source": [
      "To convert all the State values to upper case we will use the ***upper()*** function and the dataframe's ***apply*** attribute. The ***lambda*** function simply will apply the upper function to each value in the *State* column."
     ]
    },
    {
     "cell_type": "code",
     "collapsed": false,
     "input": [
      "# Clean State Column, convert to upper case\n",
      "df.State = df.State.apply(lambda x: x.upper())"
     ],
     "language": "python",
     "metadata": {},
     "outputs": []
    },
    {
     "cell_type": "code",
     "collapsed": false,
     "input": [
      "df['State'].unique()"
     ],
     "language": "python",
     "metadata": {},
     "outputs": []
    },
    {
     "cell_type": "code",
     "collapsed": false,
     "input": [
      "# Only grab where Status == 1\n",
      "df = df[df['Status'] == 1]"
     ],
     "language": "python",
     "metadata": {},
     "outputs": []
    },
    {
     "cell_type": "markdown",
     "metadata": {},
     "source": [
      "To turn the ***NJ*** states to ***NY*** we simply.  \n",
      "\n",
      "***[df.State == 'NJ']*** - Find all records in the *State* column where they are equal to *NJ*.  \n",
      "***df.State[df.State == 'NJ'] = 'NY'*** - For all records in the *State* column where they are equal to *NJ*, replace them with *NY*."
     ]
    },
    {
     "cell_type": "code",
     "collapsed": false,
     "input": [
      "# Convert NJ to NY\n",
      "df.State[df.State == 'NJ'] = 'NY'"
     ],
     "language": "python",
     "metadata": {},
     "outputs": []
    },
    {
     "cell_type": "markdown",
     "metadata": {},
     "source": [
      "Now we can see we have a much cleaner data set to work with."
     ]
    },
    {
     "cell_type": "code",
     "collapsed": false,
     "input": [
      "df['State'].unique()"
     ],
     "language": "python",
     "metadata": {},
     "outputs": []
    },
    {
     "cell_type": "markdown",
     "metadata": {},
     "source": [
      "At this point we may want to graph the data to check for any outliers or inconsistencies in the data. We will be using the ***plot()*** attribute of the dataframe.  \n",
      "\n",
      "As you can see from the graph below it is not very conclusive and is probably a sign that we need to perform some more data preparation."
     ]
    },
    {
     "cell_type": "code",
     "collapsed": false,
     "input": [
      "df['CustomerCount'].plot()"
     ],
     "language": "python",
     "metadata": {},
     "outputs": []
    },
    {
     "cell_type": "markdown",
     "metadata": {},
     "source": [
      "If we take a look at the data, we begin to realize that there are multiple values per State, StatusDate, and Status. It is possible that this means the data you are working with is dirty/bad/inaccurate, but we will assume otherwise. We can assume this data set is a subset of a bigger data set and if we simply add the values in the ***CustomerCount*** column per State, StatusDate, and Status we will get the ***Total Customer Count*** per day.  "
     ]
    },
    {
     "cell_type": "code",
     "collapsed": false,
     "input": [
      "sortdf = df[df['State']=='NY'].sort(axis=0)\n",
      "sortdf.head()"
     ],
     "language": "python",
     "metadata": {},
     "outputs": []
    },
    {
     "cell_type": "markdown",
     "metadata": {},
     "source": [
      "Our task is now to create a new dataframe that compresses the data so we have daily customer counts per State and StatusDate. We can ignore the Status column since all the values in this column are of value *1*. To accomplish this we will use the dataframe's functions ***groupby*** and ***sum()***.  \n",
      "\n",
      "Note that we had to use **reset_index** . If we did not, we would not have been able to group by both the State and the StatusDate since the groupby function expects only columns as inputs. The **reset_index** function will bring the index ***StatusDate*** back to a column in the dataframe. "
     ]
    },
    {
     "cell_type": "code",
     "collapsed": false,
     "input": [
      "# Group by State and StatusDate\n",
      "Daily = df.reset_index().groupby(['State','StatusDate']).sum()\n",
      "Daily.head()"
     ],
     "language": "python",
     "metadata": {},
     "outputs": []
    },
    {
     "cell_type": "markdown",
     "metadata": {},
     "source": [
      "The ***State*** and ***StatusDate*** columns are automatically placed in the index of the ***Daily*** dataframe. You can think of the ***index*** as the primary key of a database table but without the constraint of having unique values. Columns in the index as you will see allow us to easily select, plot, and perform calculations on the data.  \n",
      "\n",
      "Below we delete the ***Status*** column since it is all equal to one and no longer necessary."
     ]
    },
    {
     "cell_type": "code",
     "collapsed": false,
     "input": [
      "del Daily['Status']\n",
      "Daily.head()"
     ],
     "language": "python",
     "metadata": {},
     "outputs": []
    },
    {
     "cell_type": "code",
     "collapsed": false,
     "input": [
      "# What is the index of the dataframe\n",
      "Daily.index"
     ],
     "language": "python",
     "metadata": {},
     "outputs": []
    },
    {
     "cell_type": "code",
     "collapsed": false,
     "input": [
      "# Select the State index\n",
      "Daily.index.levels[0]"
     ],
     "language": "python",
     "metadata": {},
     "outputs": []
    },
    {
     "cell_type": "code",
     "collapsed": false,
     "input": [
      "# Select the StatusDate index\n",
      "Daily.index.levels[1]"
     ],
     "language": "python",
     "metadata": {},
     "outputs": []
    },
    {
     "cell_type": "markdown",
     "metadata": {},
     "source": [
      "Lets now plot the data per State.  \n",
      "\n",
      "As you can see by breaking the graph up by the ***State*** column we have a much clearer picture on how the data looks like. Can you spot any outliers?"
     ]
    },
    {
     "cell_type": "code",
     "collapsed": false,
     "input": [
      "Daily.ix['FL'].plot()\n",
      "Daily.ix['GA'].plot()\n",
      "Daily.ix['NY'].plot()\n",
      "Daily.ix['TX'].plot()"
     ],
     "language": "python",
     "metadata": {},
     "outputs": []
    },
    {
     "cell_type": "markdown",
     "metadata": {},
     "source": [
      "We can also just plot the data on a specific date, like ***2012***. We can now clearly see that the data for these states is all over the place. since the data consist of weekly customer counts, the variability of the data seems suspect. For this tutorial we will assume bad data and proceed. "
     ]
    },
    {
     "cell_type": "code",
     "collapsed": false,
     "input": [
      "Daily.ix['FL']['2012':].plot()\n",
      "Daily.ix['GA']['2012':].plot()\n",
      "Daily.ix['NY']['2012':].plot()\n",
      "Daily.ix['TX']['2012':].plot()"
     ],
     "language": "python",
     "metadata": {},
     "outputs": []
    },
    {
     "cell_type": "markdown",
     "metadata": {},
     "source": [
      "We will assume that per month the customer count should remain relatively steady. Any data outside a specific range in that month will be removed from the data set. The final result should have smooth graphs with no spikes.  \n",
      "\n",
      "***StateYearMonth*** - Here we group by State, Year of StatusDate, and Month of StatusDate.  \n",
      "***Daily['Outlier']*** - A boolean (True or False) value letting us know if the value in the CustomerCount column is ouside the acceptable range.  \n",
      "\n",
      "We will be using the attribute ***transform*** instead of ***apply***. The reason is that transform will keep the shape(# of rows and columns) of the dataframe the same and apply will not. By looking at the previous graphs, we can realize they are not resembling a gaussian distribution, this means we cannot use summary statistics like the mean and stDev. We use percentiles instead. Note that we run the risk of eliminating good data."
     ]
    },
    {
     "cell_type": "code",
     "collapsed": false,
     "input": [
      "# Calculate Outliers\n",
      "StateYearMonth = Daily.groupby([Daily.index.get_level_values(0), Daily.index.get_level_values(1).year, Daily.index.get_level_values(1).month])\n",
      "Daily['Lower'] = StateYearMonth['CustomerCount'].transform( lambda x: x.quantile(q=.25) - (1.5*x.quantile(q=.75)-x.quantile(q=.25)) )\n",
      "Daily['Upper'] = StateYearMonth['CustomerCount'].transform( lambda x: x.quantile(q=.75) + (1.5*x.quantile(q=.75)-x.quantile(q=.25)) )\n",
      "Daily['Outlier'] = (Daily['CustomerCount'] < Daily['Lower']) | (Daily['CustomerCount'] > Daily['Upper']) \n",
      "\n",
      "# Remove Ouliers\n",
      "Daily = Daily[Daily['Outlier'] == False]"
     ],
     "language": "python",
     "metadata": {},
     "outputs": []
    },
    {
     "cell_type": "markdown",
     "metadata": {},
     "source": [
      "The dataframe named ***Daily*** will hold customer counts that have been aggregated per day. The original data (df) has multiple records per day.  We are left with a data set that is indexed by both the state and the StatusDate. The Oulier column should be equal to ***false*** signifying that the record is not an outlier."
     ]
    },
    {
     "cell_type": "code",
     "collapsed": false,
     "input": [
      "Daily.head()"
     ],
     "language": "python",
     "metadata": {},
     "outputs": []
    },
    {
     "cell_type": "markdown",
     "metadata": {},
     "source": [
      "We create a seperate dataframe named ***ALL*** which groups the Daily dataframe by StatusDate. We are essentially getting rid of the State column. The ***Max*** column represents the maximum customer count per month. The Max column is used to smooth out the graph."
     ]
    },
    {
     "cell_type": "code",
     "collapsed": false,
     "input": [
      "# Combine all markets\n",
      "\n",
      "# Get the max customer count by Date\n",
      "ALL = DataFrame(Daily['CustomerCount'].groupby(Daily.index.get_level_values(1)).sum())\n",
      "ALL.columns = ['CustomerCount'] # rename column\n",
      "\n",
      "# Group by Year and Month\n",
      "YearMonth = ALL.groupby([lambda x: x.year, lambda x: x.month])\n",
      "\n",
      "# What is the max customer count per Year and Month\n",
      "ALL['Max'] = YearMonth['CustomerCount'].transform(lambda x: x.max())\n",
      "ALL.head()"
     ],
     "language": "python",
     "metadata": {},
     "outputs": []
    },
    {
     "cell_type": "markdown",
     "metadata": {},
     "source": [
      "As you can see from the ***ALL*** dataframe above, in the month of January 2009, the maximum customer count was 1,743. If we used ***apply***, we would have a dataframe with (Year and Month) as the index and just the *Max* column with the value of 1,743. "
     ]
    },
    {
     "cell_type": "markdown",
     "metadata": {},
     "source": [
      "----------------------------------  \n",
      "There is also an interest to gauge if the current customer counts were reaching certain goals the company had established. The task here is to visually show if the current customer counts are meeting the goals listed below. We will call the goals ***BHAG*** (Big Hairy Annual Goal).  \n",
      "\n",
      "* 12/31/2011 - 1,000 customers  \n",
      "* 12/31/2012 - 2,000 customers  \n",
      "* 12/31/2013 - 3,000 customers  \n",
      "\n",
      "We will be using the **date_range** function to create our dates.  \n",
      "\n",
      "***Definition:*** date_range(start=None, end=None, periods=None, freq='D', tz=None, normalize=False, name=None)  \n",
      "***Docstring:*** Return a fixed frequency datetime index, with day (calendar) as the default frequency  \n",
      "\n",
      "By choosing the frequency to be ***A*** or annual we will be able to get the three target dates from above."
     ]
    },
    {
     "cell_type": "code",
     "collapsed": false,
     "input": [
      "date_range?"
     ],
     "language": "python",
     "metadata": {},
     "outputs": []
    },
    {
     "cell_type": "code",
     "collapsed": false,
     "input": [
      "# Create the BHAG dataframe\n",
      "data = [1000,2000,3000]\n",
      "idx = date_range(start='12/31/2011', end='12/31/2013', freq='A')\n",
      "BHAG = DataFrame(data, index=idx, columns=['BHAG'])\n",
      "BHAG"
     ],
     "language": "python",
     "metadata": {},
     "outputs": []
    },
    {
     "cell_type": "markdown",
     "metadata": {},
     "source": [
      "Combining dataframes as we have learned in previous lesson is made simple using the ***concat*** function. Remember when we choose ***axis = 0*** we are appending row wise."
     ]
    },
    {
     "cell_type": "code",
     "collapsed": false,
     "input": [
      "# Combine the BHAG and the ALL data set \n",
      "combined = concat([ALL,BHAG], axis=0)\n",
      "combined = combined.sort(axis=0)\n",
      "combined.tail()"
     ],
     "language": "python",
     "metadata": {},
     "outputs": []
    },
    {
     "cell_type": "code",
     "collapsed": false,
     "input": [
      "fig, axes = plt.subplots(figsize=(10, 5))\n",
      "combined['BHAG'].fillna(method='pad').plot(color='green', label='BHAG')\n",
      "combined['Max'].plot(color='blue', label='All Markets')\n",
      "plt.legend(loc='best')"
     ],
     "language": "python",
     "metadata": {},
     "outputs": []
    },
    {
     "cell_type": "markdown",
     "metadata": {},
     "source": [
      "There was also a need to forecast next year's customer count and we can do this in a couple of simple steps. We will first group the ***combined*** dataframe by ***Year*** and place the maximum customer count for that year. This will give us one row per Year.   "
     ]
    },
    {
     "cell_type": "code",
     "collapsed": false,
     "input": [
      "# Group by Year and then get the max value per year\n",
      "Year = combined.groupby(lambda x: x.year).max()\n",
      "Year"
     ],
     "language": "python",
     "metadata": {},
     "outputs": []
    },
    {
     "cell_type": "code",
     "collapsed": false,
     "input": [
      "# Add a column representing the percent change per year\n",
      "Year['YR_PCT_Change'] = Year['Max'].pct_change(periods=1)\n",
      "Year"
     ],
     "language": "python",
     "metadata": {},
     "outputs": []
    },
    {
     "cell_type": "markdown",
     "metadata": {},
     "source": [
      "To get next year's end customer count we will assume our current growth rate remains constant. We then will increase this years customer count by that amount and that will be our forecast for next year. "
     ]
    },
    {
     "cell_type": "code",
     "collapsed": false,
     "input": [
      "(1 + Year.ix[2012,'YR_PCT_Change']) * Year.ix[2012,'Max']"
     ],
     "language": "python",
     "metadata": {},
     "outputs": []
    },
    {
     "cell_type": "markdown",
     "metadata": {},
     "source": [
      "# Present Data  \n",
      "\n",
      "Create individual Graphs per Market.  "
     ]
    },
    {
     "cell_type": "code",
     "collapsed": false,
     "input": [
      "# First Graph\n",
      "ALL['Max'].plot(figsize=(10, 5));plt.title('ALL Markets')\n",
      "\n",
      "# Last four Graphs\n",
      "fig, axes = plt.subplots(nrows=2, ncols=2, figsize=(20, 10))\n",
      "fig.subplots_adjust(hspace=1.0) ## Create space between plots\n",
      "\n",
      "Daily.ix['FL']['CustomerCount']['2012':].fillna(method='pad').plot(ax=axes[0,0]); axes[0,0].set_title('Florida')\n",
      "Daily.ix['GA']['CustomerCount']['2012':].fillna(method='pad').plot(ax=axes[0,1]); axes[0,1].set_title('Georgia')\n",
      "Daily.ix['TX']['CustomerCount']['2012':].fillna(method='pad').plot(ax=axes[1,0]); axes[1,0].set_title('Texas')\n",
      "Daily.ix['NY']['CustomerCount']['2012':].fillna(method='pad').plot(ax=axes[1,1]); axes[1,1].set_title('North East')\n"
     ],
     "language": "python",
     "metadata": {},
     "outputs": []
    },
    {
     "cell_type": "code",
     "collapsed": false,
     "input": [],
     "language": "python",
     "metadata": {},
     "outputs": []
    }
   ],
   "metadata": {}
  }
 ]
}