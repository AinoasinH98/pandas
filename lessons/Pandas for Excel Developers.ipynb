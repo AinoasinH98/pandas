{
 "metadata": {
  "name": "",
  "signature": "sha256:3277f99156f3792fe7b7e04ad3e4efb0ab516425473b0caa95f352e8f65f8c10"
 },
 "nbformat": 3,
 "nbformat_minor": 0,
 "worksheets": [
  {
   "cells": [
    {
     "cell_type": "markdown",
     "metadata": {},
     "source": [
      "# Pandas set up"
     ]
    },
    {
     "cell_type": "code",
     "collapsed": false,
     "input": [
      "# Import libraries\n",
      "import pandas as pd\n",
      "import datetime\n",
      "import sys\n",
      "%matplotlib inline\n",
      "\n",
      "print 'Python version ' + sys.version\n",
      "print 'Pandas version ' + pd.__version__"
     ],
     "language": "python",
     "metadata": {},
     "outputs": [
      {
       "output_type": "stream",
       "stream": "stdout",
       "text": [
        "Python version 2.7.5 |Anaconda 2.0.1 (64-bit)| (default, Jul  1 2013, 12:37:52) [MSC v.1500 64 bit (AMD64)]\n",
        "Pandas version 0.14.1\n"
       ]
      }
     ],
     "prompt_number": 1
    },
    {
     "cell_type": "code",
     "collapsed": false,
     "input": [
      "# Create dummy data for examples\n",
      "sample = pd.DataFrame(data = {'Date':[pd.datetime(2013,1,1), pd.datetime(2014,1,1), pd.datetime(2015,1,1), pd.datetime(2016,1,1)],\n",
      "                           'Quarter 1':[100,200,300,400],\n",
      "                           'Quarter 2':[20,30,40,50],\n",
      "                           'Quarter 3':[15,20,25,30],\n",
      "                           'Quarter 4':[80,90,100,110]})\n",
      "\n",
      "sample"
     ],
     "language": "python",
     "metadata": {},
     "outputs": [
      {
       "html": [
        "<div style=\"max-height:1000px;max-width:1500px;overflow:auto;\">\n",
        "<table border=\"1\" class=\"dataframe\">\n",
        "  <thead>\n",
        "    <tr style=\"text-align: right;\">\n",
        "      <th></th>\n",
        "      <th>Date</th>\n",
        "      <th>Quarter 1</th>\n",
        "      <th>Quarter 2</th>\n",
        "      <th>Quarter 3</th>\n",
        "      <th>Quarter 4</th>\n",
        "    </tr>\n",
        "  </thead>\n",
        "  <tbody>\n",
        "    <tr>\n",
        "      <th>0</th>\n",
        "      <td>2013-01-01</td>\n",
        "      <td> 100</td>\n",
        "      <td> 20</td>\n",
        "      <td> 15</td>\n",
        "      <td>  80</td>\n",
        "    </tr>\n",
        "    <tr>\n",
        "      <th>1</th>\n",
        "      <td>2014-01-01</td>\n",
        "      <td> 200</td>\n",
        "      <td> 30</td>\n",
        "      <td> 20</td>\n",
        "      <td>  90</td>\n",
        "    </tr>\n",
        "    <tr>\n",
        "      <th>2</th>\n",
        "      <td>2015-01-01</td>\n",
        "      <td> 300</td>\n",
        "      <td> 40</td>\n",
        "      <td> 25</td>\n",
        "      <td> 100</td>\n",
        "    </tr>\n",
        "    <tr>\n",
        "      <th>3</th>\n",
        "      <td>2016-01-01</td>\n",
        "      <td> 400</td>\n",
        "      <td> 50</td>\n",
        "      <td> 30</td>\n",
        "      <td> 110</td>\n",
        "    </tr>\n",
        "  </tbody>\n",
        "</table>\n",
        "</div>"
       ],
       "metadata": {},
       "output_type": "pyout",
       "prompt_number": 2,
       "text": [
        "        Date  Quarter 1  Quarter 2  Quarter 3  Quarter 4\n",
        "0 2013-01-01        100         20         15         80\n",
        "1 2014-01-01        200         30         20         90\n",
        "2 2015-01-01        300         40         25        100\n",
        "3 2016-01-01        400         50         30        110"
       ]
      }
     ],
     "prompt_number": 2
    },
    {
     "cell_type": "code",
     "collapsed": false,
     "input": [
      "# How to add a column and sum horizontally\n",
      "# How to add a column and compute the average\n",
      "# How to add a column and compute the percentage of Total Sales\n",
      "# How to sort by a column\n",
      "# How to filter by a value\n",
      "# How to create a column chart\n",
      "# How to create a pivot table\n",
      "# How to perform a vlookup\n",
      "# How to perform an IF/THEN statement"
     ],
     "language": "python",
     "metadata": {},
     "outputs": [],
     "prompt_number": 3
    },
    {
     "cell_type": "markdown",
     "metadata": {},
     "source": [
      "# How to add a column and sum horizontally"
     ]
    },
    {
     "cell_type": "code",
     "collapsed": false,
     "input": [
      "# Make a copy of our test data\n",
      "df = sample.copy(deep=True)\n",
      "\n",
      "df['Total Yearly Sales'] = df.sum(axis=1)\n",
      "df"
     ],
     "language": "python",
     "metadata": {},
     "outputs": [
      {
       "html": [
        "<div style=\"max-height:1000px;max-width:1500px;overflow:auto;\">\n",
        "<table border=\"1\" class=\"dataframe\">\n",
        "  <thead>\n",
        "    <tr style=\"text-align: right;\">\n",
        "      <th></th>\n",
        "      <th>Date</th>\n",
        "      <th>Quarter 1</th>\n",
        "      <th>Quarter 2</th>\n",
        "      <th>Quarter 3</th>\n",
        "      <th>Quarter 4</th>\n",
        "      <th>Total Yearly Sales</th>\n",
        "    </tr>\n",
        "  </thead>\n",
        "  <tbody>\n",
        "    <tr>\n",
        "      <th>0</th>\n",
        "      <td>2013-01-01</td>\n",
        "      <td> 100</td>\n",
        "      <td> 20</td>\n",
        "      <td> 15</td>\n",
        "      <td>  80</td>\n",
        "      <td> 215</td>\n",
        "    </tr>\n",
        "    <tr>\n",
        "      <th>1</th>\n",
        "      <td>2014-01-01</td>\n",
        "      <td> 200</td>\n",
        "      <td> 30</td>\n",
        "      <td> 20</td>\n",
        "      <td>  90</td>\n",
        "      <td> 340</td>\n",
        "    </tr>\n",
        "    <tr>\n",
        "      <th>2</th>\n",
        "      <td>2015-01-01</td>\n",
        "      <td> 300</td>\n",
        "      <td> 40</td>\n",
        "      <td> 25</td>\n",
        "      <td> 100</td>\n",
        "      <td> 465</td>\n",
        "    </tr>\n",
        "    <tr>\n",
        "      <th>3</th>\n",
        "      <td>2016-01-01</td>\n",
        "      <td> 400</td>\n",
        "      <td> 50</td>\n",
        "      <td> 30</td>\n",
        "      <td> 110</td>\n",
        "      <td> 590</td>\n",
        "    </tr>\n",
        "  </tbody>\n",
        "</table>\n",
        "</div>"
       ],
       "metadata": {},
       "output_type": "pyout",
       "prompt_number": 4,
       "text": [
        "        Date  Quarter 1  Quarter 2  Quarter 3  Quarter 4  Total Yearly Sales\n",
        "0 2013-01-01        100         20         15         80                 215\n",
        "1 2014-01-01        200         30         20         90                 340\n",
        "2 2015-01-01        300         40         25        100                 465\n",
        "3 2016-01-01        400         50         30        110                 590"
       ]
      }
     ],
     "prompt_number": 4
    },
    {
     "cell_type": "markdown",
     "metadata": {},
     "source": [
      "# How to add a column and compute the average"
     ]
    },
    {
     "cell_type": "code",
     "collapsed": false,
     "input": [
      "# Columns we are interested in\n",
      "cols = ['Quarter 1','Quarter 2','Quarter 3','Quarter 4']\n",
      "\n",
      "df['Average'] = df[cols].mean(axis=1)\n",
      "df"
     ],
     "language": "python",
     "metadata": {},
     "outputs": [
      {
       "html": [
        "<div style=\"max-height:1000px;max-width:1500px;overflow:auto;\">\n",
        "<table border=\"1\" class=\"dataframe\">\n",
        "  <thead>\n",
        "    <tr style=\"text-align: right;\">\n",
        "      <th></th>\n",
        "      <th>Date</th>\n",
        "      <th>Quarter 1</th>\n",
        "      <th>Quarter 2</th>\n",
        "      <th>Quarter 3</th>\n",
        "      <th>Quarter 4</th>\n",
        "      <th>Total Yearly Sales</th>\n",
        "      <th>Average</th>\n",
        "    </tr>\n",
        "  </thead>\n",
        "  <tbody>\n",
        "    <tr>\n",
        "      <th>0</th>\n",
        "      <td>2013-01-01</td>\n",
        "      <td> 100</td>\n",
        "      <td> 20</td>\n",
        "      <td> 15</td>\n",
        "      <td>  80</td>\n",
        "      <td> 215</td>\n",
        "      <td>  53.75</td>\n",
        "    </tr>\n",
        "    <tr>\n",
        "      <th>1</th>\n",
        "      <td>2014-01-01</td>\n",
        "      <td> 200</td>\n",
        "      <td> 30</td>\n",
        "      <td> 20</td>\n",
        "      <td>  90</td>\n",
        "      <td> 340</td>\n",
        "      <td>  85.00</td>\n",
        "    </tr>\n",
        "    <tr>\n",
        "      <th>2</th>\n",
        "      <td>2015-01-01</td>\n",
        "      <td> 300</td>\n",
        "      <td> 40</td>\n",
        "      <td> 25</td>\n",
        "      <td> 100</td>\n",
        "      <td> 465</td>\n",
        "      <td> 116.25</td>\n",
        "    </tr>\n",
        "    <tr>\n",
        "      <th>3</th>\n",
        "      <td>2016-01-01</td>\n",
        "      <td> 400</td>\n",
        "      <td> 50</td>\n",
        "      <td> 30</td>\n",
        "      <td> 110</td>\n",
        "      <td> 590</td>\n",
        "      <td> 147.50</td>\n",
        "    </tr>\n",
        "  </tbody>\n",
        "</table>\n",
        "</div>"
       ],
       "metadata": {},
       "output_type": "pyout",
       "prompt_number": 5,
       "text": [
        "        Date  Quarter 1  Quarter 2  Quarter 3  Quarter 4  Total Yearly Sales  \\\n",
        "0 2013-01-01        100         20         15         80                 215   \n",
        "1 2014-01-01        200         30         20         90                 340   \n",
        "2 2015-01-01        300         40         25        100                 465   \n",
        "3 2016-01-01        400         50         30        110                 590   \n",
        "\n",
        "   Average  \n",
        "0    53.75  \n",
        "1    85.00  \n",
        "2   116.25  \n",
        "3   147.50  "
       ]
      }
     ],
     "prompt_number": 5
    },
    {
     "cell_type": "markdown",
     "metadata": {},
     "source": [
      "# How to add a column and compute the percentage of Total Sales"
     ]
    },
    {
     "cell_type": "code",
     "collapsed": false,
     "input": [
      "TotalSales = df['Total Yearly Sales'].sum()\n",
      "\n",
      "df['Percentage of Sales'] = df['Total Yearly Sales'].apply(lambda x: 100.0*x/TotalSales)\n",
      "df"
     ],
     "language": "python",
     "metadata": {},
     "outputs": [
      {
       "html": [
        "<div style=\"max-height:1000px;max-width:1500px;overflow:auto;\">\n",
        "<table border=\"1\" class=\"dataframe\">\n",
        "  <thead>\n",
        "    <tr style=\"text-align: right;\">\n",
        "      <th></th>\n",
        "      <th>Date</th>\n",
        "      <th>Quarter 1</th>\n",
        "      <th>Quarter 2</th>\n",
        "      <th>Quarter 3</th>\n",
        "      <th>Quarter 4</th>\n",
        "      <th>Total Yearly Sales</th>\n",
        "      <th>Average</th>\n",
        "      <th>Percentage of Sales</th>\n",
        "    </tr>\n",
        "  </thead>\n",
        "  <tbody>\n",
        "    <tr>\n",
        "      <th>0</th>\n",
        "      <td>2013-01-01</td>\n",
        "      <td> 100</td>\n",
        "      <td> 20</td>\n",
        "      <td> 15</td>\n",
        "      <td>  80</td>\n",
        "      <td> 215</td>\n",
        "      <td>  53.75</td>\n",
        "      <td> 13.354037</td>\n",
        "    </tr>\n",
        "    <tr>\n",
        "      <th>1</th>\n",
        "      <td>2014-01-01</td>\n",
        "      <td> 200</td>\n",
        "      <td> 30</td>\n",
        "      <td> 20</td>\n",
        "      <td>  90</td>\n",
        "      <td> 340</td>\n",
        "      <td>  85.00</td>\n",
        "      <td> 21.118012</td>\n",
        "    </tr>\n",
        "    <tr>\n",
        "      <th>2</th>\n",
        "      <td>2015-01-01</td>\n",
        "      <td> 300</td>\n",
        "      <td> 40</td>\n",
        "      <td> 25</td>\n",
        "      <td> 100</td>\n",
        "      <td> 465</td>\n",
        "      <td> 116.25</td>\n",
        "      <td> 28.881988</td>\n",
        "    </tr>\n",
        "    <tr>\n",
        "      <th>3</th>\n",
        "      <td>2016-01-01</td>\n",
        "      <td> 400</td>\n",
        "      <td> 50</td>\n",
        "      <td> 30</td>\n",
        "      <td> 110</td>\n",
        "      <td> 590</td>\n",
        "      <td> 147.50</td>\n",
        "      <td> 36.645963</td>\n",
        "    </tr>\n",
        "  </tbody>\n",
        "</table>\n",
        "</div>"
       ],
       "metadata": {},
       "output_type": "pyout",
       "prompt_number": 6,
       "text": [
        "        Date  Quarter 1  Quarter 2  Quarter 3  Quarter 4  Total Yearly Sales  \\\n",
        "0 2013-01-01        100         20         15         80                 215   \n",
        "1 2014-01-01        200         30         20         90                 340   \n",
        "2 2015-01-01        300         40         25        100                 465   \n",
        "3 2016-01-01        400         50         30        110                 590   \n",
        "\n",
        "   Average  Percentage of Sales  \n",
        "0    53.75            13.354037  \n",
        "1    85.00            21.118012  \n",
        "2   116.25            28.881988  \n",
        "3   147.50            36.645963  "
       ]
      }
     ],
     "prompt_number": 6
    },
    {
     "cell_type": "markdown",
     "metadata": {},
     "source": [
      "# How to sort by a column"
     ]
    },
    {
     "cell_type": "code",
     "collapsed": false,
     "input": [
      "df.sort(columns = 'Quarter 1', ascending=False)"
     ],
     "language": "python",
     "metadata": {},
     "outputs": [
      {
       "html": [
        "<div style=\"max-height:1000px;max-width:1500px;overflow:auto;\">\n",
        "<table border=\"1\" class=\"dataframe\">\n",
        "  <thead>\n",
        "    <tr style=\"text-align: right;\">\n",
        "      <th></th>\n",
        "      <th>Date</th>\n",
        "      <th>Quarter 1</th>\n",
        "      <th>Quarter 2</th>\n",
        "      <th>Quarter 3</th>\n",
        "      <th>Quarter 4</th>\n",
        "      <th>Total Yearly Sales</th>\n",
        "      <th>Average</th>\n",
        "      <th>Percentage of Sales</th>\n",
        "    </tr>\n",
        "  </thead>\n",
        "  <tbody>\n",
        "    <tr>\n",
        "      <th>3</th>\n",
        "      <td>2016-01-01</td>\n",
        "      <td> 400</td>\n",
        "      <td> 50</td>\n",
        "      <td> 30</td>\n",
        "      <td> 110</td>\n",
        "      <td> 590</td>\n",
        "      <td> 147.50</td>\n",
        "      <td> 36.645963</td>\n",
        "    </tr>\n",
        "    <tr>\n",
        "      <th>2</th>\n",
        "      <td>2015-01-01</td>\n",
        "      <td> 300</td>\n",
        "      <td> 40</td>\n",
        "      <td> 25</td>\n",
        "      <td> 100</td>\n",
        "      <td> 465</td>\n",
        "      <td> 116.25</td>\n",
        "      <td> 28.881988</td>\n",
        "    </tr>\n",
        "    <tr>\n",
        "      <th>1</th>\n",
        "      <td>2014-01-01</td>\n",
        "      <td> 200</td>\n",
        "      <td> 30</td>\n",
        "      <td> 20</td>\n",
        "      <td>  90</td>\n",
        "      <td> 340</td>\n",
        "      <td>  85.00</td>\n",
        "      <td> 21.118012</td>\n",
        "    </tr>\n",
        "    <tr>\n",
        "      <th>0</th>\n",
        "      <td>2013-01-01</td>\n",
        "      <td> 100</td>\n",
        "      <td> 20</td>\n",
        "      <td> 15</td>\n",
        "      <td>  80</td>\n",
        "      <td> 215</td>\n",
        "      <td>  53.75</td>\n",
        "      <td> 13.354037</td>\n",
        "    </tr>\n",
        "  </tbody>\n",
        "</table>\n",
        "</div>"
       ],
       "metadata": {},
       "output_type": "pyout",
       "prompt_number": 7,
       "text": [
        "        Date  Quarter 1  Quarter 2  Quarter 3  Quarter 4  Total Yearly Sales  \\\n",
        "3 2016-01-01        400         50         30        110                 590   \n",
        "2 2015-01-01        300         40         25        100                 465   \n",
        "1 2014-01-01        200         30         20         90                 340   \n",
        "0 2013-01-01        100         20         15         80                 215   \n",
        "\n",
        "   Average  Percentage of Sales  \n",
        "3   147.50            36.645963  \n",
        "2   116.25            28.881988  \n",
        "1    85.00            21.118012  \n",
        "0    53.75            13.354037  "
       ]
      }
     ],
     "prompt_number": 7
    },
    {
     "cell_type": "markdown",
     "metadata": {},
     "source": [
      "# How to filter by a value"
     ]
    },
    {
     "cell_type": "code",
     "collapsed": false,
     "input": [
      "mask = df['Average'] == 85\n",
      "\n",
      "# Filter where average is equal to 85\n",
      "df[mask]"
     ],
     "language": "python",
     "metadata": {},
     "outputs": [
      {
       "html": [
        "<div style=\"max-height:1000px;max-width:1500px;overflow:auto;\">\n",
        "<table border=\"1\" class=\"dataframe\">\n",
        "  <thead>\n",
        "    <tr style=\"text-align: right;\">\n",
        "      <th></th>\n",
        "      <th>Date</th>\n",
        "      <th>Quarter 1</th>\n",
        "      <th>Quarter 2</th>\n",
        "      <th>Quarter 3</th>\n",
        "      <th>Quarter 4</th>\n",
        "      <th>Total Yearly Sales</th>\n",
        "      <th>Average</th>\n",
        "      <th>Percentage of Sales</th>\n",
        "    </tr>\n",
        "  </thead>\n",
        "  <tbody>\n",
        "    <tr>\n",
        "      <th>1</th>\n",
        "      <td>2014-01-01</td>\n",
        "      <td> 200</td>\n",
        "      <td> 30</td>\n",
        "      <td> 20</td>\n",
        "      <td> 90</td>\n",
        "      <td> 340</td>\n",
        "      <td> 85</td>\n",
        "      <td> 21.118012</td>\n",
        "    </tr>\n",
        "  </tbody>\n",
        "</table>\n",
        "</div>"
       ],
       "metadata": {},
       "output_type": "pyout",
       "prompt_number": 8,
       "text": [
        "        Date  Quarter 1  Quarter 2  Quarter 3  Quarter 4  Total Yearly Sales  \\\n",
        "1 2014-01-01        200         30         20         90                 340   \n",
        "\n",
        "   Average  Percentage of Sales  \n",
        "1       85            21.118012  "
       ]
      }
     ],
     "prompt_number": 8
    },
    {
     "cell_type": "markdown",
     "metadata": {},
     "source": [
      "# How to create a column chart"
     ]
    },
    {
     "cell_type": "code",
     "collapsed": false,
     "input": [
      "df[cols].plot(kind='bar');"
     ],
     "language": "python",
     "metadata": {},
     "outputs": [
      {
       "metadata": {},
       "output_type": "display_data",
       "png": "[encoded data removed]",
       "text": [
        "<matplotlib.figure.Figure at 0xc417710>"
       ]
      }
     ],
     "prompt_number": 9
    },
    {
     "cell_type": "markdown",
     "metadata": {},
     "source": [
      "# How to create a pivot table"
     ]
    },
    {
     "cell_type": "code",
     "collapsed": false,
     "input": [
      "# Create dummy data for examples\n",
      "sample2 = pd.DataFrame(data = {'Date':[pd.datetime(2013,1,1), pd.datetime(2013,1,1), pd.datetime(2013,1,1), pd.datetime(2013,1,1)],\n",
      "                            'Type':['A','A','B','B'],\n",
      "                            'Amount':[80,90,100,110]})\n",
      "\n",
      "sample2"
     ],
     "language": "python",
     "metadata": {},
     "outputs": [
      {
       "html": [
        "<div style=\"max-height:1000px;max-width:1500px;overflow:auto;\">\n",
        "<table border=\"1\" class=\"dataframe\">\n",
        "  <thead>\n",
        "    <tr style=\"text-align: right;\">\n",
        "      <th></th>\n",
        "      <th>Amount</th>\n",
        "      <th>Date</th>\n",
        "      <th>Type</th>\n",
        "    </tr>\n",
        "  </thead>\n",
        "  <tbody>\n",
        "    <tr>\n",
        "      <th>0</th>\n",
        "      <td>  80</td>\n",
        "      <td>2013-01-01</td>\n",
        "      <td> A</td>\n",
        "    </tr>\n",
        "    <tr>\n",
        "      <th>1</th>\n",
        "      <td>  90</td>\n",
        "      <td>2013-01-01</td>\n",
        "      <td> A</td>\n",
        "    </tr>\n",
        "    <tr>\n",
        "      <th>2</th>\n",
        "      <td> 100</td>\n",
        "      <td>2013-01-01</td>\n",
        "      <td> B</td>\n",
        "    </tr>\n",
        "    <tr>\n",
        "      <th>3</th>\n",
        "      <td> 110</td>\n",
        "      <td>2013-01-01</td>\n",
        "      <td> B</td>\n",
        "    </tr>\n",
        "  </tbody>\n",
        "</table>\n",
        "</div>"
       ],
       "metadata": {},
       "output_type": "pyout",
       "prompt_number": 11,
       "text": [
        "   Amount       Date Type\n",
        "0      80 2013-01-01    A\n",
        "1      90 2013-01-01    A\n",
        "2     100 2013-01-01    B\n",
        "3     110 2013-01-01    B"
       ]
      }
     ],
     "prompt_number": 11
    },
    {
     "cell_type": "code",
     "collapsed": false,
     "input": [
      "# Make a copy of our test data\n",
      "df2 = sample2.copy(deep=True)\n",
      "\n",
      "df2.pivot_table(values='Amount', rows='Date', columns='Type', aggfunc='sum')"
     ],
     "language": "python",
     "metadata": {},
     "outputs": [
      {
       "html": [
        "<div style=\"max-height:1000px;max-width:1500px;overflow:auto;\">\n",
        "<table border=\"1\" class=\"dataframe\">\n",
        "  <thead>\n",
        "    <tr style=\"text-align: right;\">\n",
        "      <th>Type</th>\n",
        "      <th>A</th>\n",
        "      <th>B</th>\n",
        "    </tr>\n",
        "    <tr>\n",
        "      <th>Date</th>\n",
        "      <th></th>\n",
        "      <th></th>\n",
        "    </tr>\n",
        "  </thead>\n",
        "  <tbody>\n",
        "    <tr>\n",
        "      <th>2013-01-01</th>\n",
        "      <td> 170</td>\n",
        "      <td> 210</td>\n",
        "    </tr>\n",
        "  </tbody>\n",
        "</table>\n",
        "</div>"
       ],
       "metadata": {},
       "output_type": "pyout",
       "prompt_number": 13,
       "text": [
        "Type          A    B\n",
        "Date                \n",
        "2013-01-01  170  210"
       ]
      }
     ],
     "prompt_number": 13
    },
    {
     "cell_type": "markdown",
     "metadata": {},
     "source": [
      "# How to perform a vlookup"
     ]
    },
    {
     "cell_type": "code",
     "collapsed": false,
     "input": [
      "# Create lookup table\n",
      "tbl = pd.Series({'A':'letter A', \n",
      "                 'B':'letter B'})\n",
      "\n",
      "\n",
      "df2['Type'] = df2['Type'].map(tbl)\n",
      "df2"
     ],
     "language": "python",
     "metadata": {},
     "outputs": [
      {
       "html": [
        "<div style=\"max-height:1000px;max-width:1500px;overflow:auto;\">\n",
        "<table border=\"1\" class=\"dataframe\">\n",
        "  <thead>\n",
        "    <tr style=\"text-align: right;\">\n",
        "      <th></th>\n",
        "      <th>Amount</th>\n",
        "      <th>Date</th>\n",
        "      <th>Type</th>\n",
        "    </tr>\n",
        "  </thead>\n",
        "  <tbody>\n",
        "    <tr>\n",
        "      <th>0</th>\n",
        "      <td>  80</td>\n",
        "      <td>2013-01-01</td>\n",
        "      <td> letter A</td>\n",
        "    </tr>\n",
        "    <tr>\n",
        "      <th>1</th>\n",
        "      <td>  90</td>\n",
        "      <td>2013-01-01</td>\n",
        "      <td> letter A</td>\n",
        "    </tr>\n",
        "    <tr>\n",
        "      <th>2</th>\n",
        "      <td> 100</td>\n",
        "      <td>2013-01-01</td>\n",
        "      <td> letter B</td>\n",
        "    </tr>\n",
        "    <tr>\n",
        "      <th>3</th>\n",
        "      <td> 110</td>\n",
        "      <td>2013-01-01</td>\n",
        "      <td> letter B</td>\n",
        "    </tr>\n",
        "  </tbody>\n",
        "</table>\n",
        "</div>"
       ],
       "metadata": {},
       "output_type": "pyout",
       "prompt_number": 14,
       "text": [
        "   Amount       Date      Type\n",
        "0      80 2013-01-01  letter A\n",
        "1      90 2013-01-01  letter A\n",
        "2     100 2013-01-01  letter B\n",
        "3     110 2013-01-01  letter B"
       ]
      }
     ],
     "prompt_number": 14
    },
    {
     "cell_type": "markdown",
     "metadata": {},
     "source": [
      "# How to perform an IF/THEN statement"
     ]
    },
    {
     "cell_type": "code",
     "collapsed": false,
     "input": [
      "# =If(Amount >= 100, \"yes\", \"no\")\n",
      "df2['yes/no'] = df2['Amount'].apply(lambda x: 'yes' if x >= 100 else 'no')\n",
      "df2"
     ],
     "language": "python",
     "metadata": {},
     "outputs": [
      {
       "html": [
        "<div style=\"max-height:1000px;max-width:1500px;overflow:auto;\">\n",
        "<table border=\"1\" class=\"dataframe\">\n",
        "  <thead>\n",
        "    <tr style=\"text-align: right;\">\n",
        "      <th></th>\n",
        "      <th>Amount</th>\n",
        "      <th>Date</th>\n",
        "      <th>Type</th>\n",
        "      <th>yes/no</th>\n",
        "    </tr>\n",
        "  </thead>\n",
        "  <tbody>\n",
        "    <tr>\n",
        "      <th>0</th>\n",
        "      <td>  80</td>\n",
        "      <td>2013-01-01</td>\n",
        "      <td> letter A</td>\n",
        "      <td>  no</td>\n",
        "    </tr>\n",
        "    <tr>\n",
        "      <th>1</th>\n",
        "      <td>  90</td>\n",
        "      <td>2013-01-01</td>\n",
        "      <td> letter A</td>\n",
        "      <td>  no</td>\n",
        "    </tr>\n",
        "    <tr>\n",
        "      <th>2</th>\n",
        "      <td> 100</td>\n",
        "      <td>2013-01-01</td>\n",
        "      <td> letter B</td>\n",
        "      <td> yes</td>\n",
        "    </tr>\n",
        "    <tr>\n",
        "      <th>3</th>\n",
        "      <td> 110</td>\n",
        "      <td>2013-01-01</td>\n",
        "      <td> letter B</td>\n",
        "      <td> yes</td>\n",
        "    </tr>\n",
        "  </tbody>\n",
        "</table>\n",
        "</div>"
       ],
       "metadata": {},
       "output_type": "pyout",
       "prompt_number": 15,
       "text": [
        "   Amount       Date      Type yes/no\n",
        "0      80 2013-01-01  letter A     no\n",
        "1      90 2013-01-01  letter A     no\n",
        "2     100 2013-01-01  letter B    yes\n",
        "3     110 2013-01-01  letter B    yes"
       ]
      }
     ],
     "prompt_number": 15
    },
    {
     "cell_type": "markdown",
     "metadata": {},
     "source": [
      "**Author:** [David Rojas LLC](http://hdrojas.pythonanywhere.com/)  "
     ]
    }
   ],
   "metadata": {}
  }
 ]
}