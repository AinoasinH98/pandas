{
 "metadata": {
  "name": "Lesson 2 V2"
 },
 "nbformat": 3,
 "nbformat_minor": 0,
 "worksheets": [
  {
   "cells": [
    {
     "cell_type": "markdown",
     "metadata": {},
     "source": [
      "# **Lesson 2**  \n",
      "\n",
      "**Create Data** - We begin by creating our own data set for analysis. This prevents the end user reading this tutorial from having to download any files to replicate the results below. We will export this data set to a text file so that you can get some experience pulling data from a text file.  \n",
      "**Get Data** - We will learn how to read in the text file containing the baby names. The data consist of baby names born in the year 1880.  \n",
      "**Prepare Data** - Here we will simply take a look at the data and make sure it is clean. By clean I mean we will take a look inside the contents of the text file and look for any anomalities. These can include missing data, inconsistencies in the data, or any other data that seems out of place. If any are found we will then have to make decisions on what to do with these records.  \n",
      "**Analyze Data** - We will simply find the most popular name in a specific year.  \n",
      "**Present Data** - Through tabular data and a graph, clearly show the end user what is the most popular name in a specific year.  \n",
      "\n",
      "***NOTE:  \n",
      "Make sure you have looked through all previous lessons as the knowledge learned in previous lessons will be needed for this exercise.***  \n",
      "    "
     ]
    },
    {
     "cell_type": "markdown",
     "metadata": {},
     "source": [
      "***Numpy*** will be used to help generate the sample data set. Importing the libraries is the first step we will take in the lesson."
     ]
    },
    {
     "cell_type": "code",
     "collapsed": false,
     "input": [
      "# Import all libraries needed for the tutorial\n",
      "\n",
      "# General syntax to import specific functions in a library: \n",
      "##from (library) import (specific library function)\n",
      "from pandas import DataFrame, read_csv\n",
      "from numpy import random\n",
      "\n",
      "# General syntax to import a library but no functions: \n",
      "##import (library) as (give the library a nickname/alias)\n",
      "import matplotlib.pyplot as plt\n",
      "import pandas as pd"
     ],
     "language": "python",
     "metadata": {},
     "outputs": [],
     "prompt_number": 1
    },
    {
     "cell_type": "code",
     "collapsed": false,
     "input": [
      "print 'Pandas version ' + pd.__version__"
     ],
     "language": "python",
     "metadata": {},
     "outputs": [
      {
       "output_type": "stream",
       "stream": "stdout",
       "text": [
        "Pandas version 0.10.1\n"
       ]
      }
     ],
     "prompt_number": 2
    },
    {
     "cell_type": "markdown",
     "metadata": {},
     "source": [
      "# Create Data  \n",
      "\n",
      "The data set will consist of 1,000 baby names and the number of births recorded for that year (1880). We will also add plenty of duplicates so you will see the same baby name more than once. You can think of the multiple entries per name simply being different hospitals around the country reporting the number of births per baby name. So if two hospitals reported the baby name \"Bob\", the data will have two values for the name Bob. We will start by creating the random set of baby names. "
     ]
    },
    {
     "cell_type": "code",
     "collapsed": false,
     "input": [
      "# The inital set of baby names\n",
      "names = ['Bob','Jessica','Mary','John','Mel']"
     ],
     "language": "python",
     "metadata": {},
     "outputs": [],
     "prompt_number": 3
    },
    {
     "cell_type": "markdown",
     "metadata": {},
     "source": [
      "To make a random list of 1,000 baby names using the five above we will do the following:  \n",
      "\n",
      "* Generate a random number between 0 and 4  \n",
      "\n",
      "To do this we will be using the functions ***seed***, ***randint***, ***len***, ***range***, and ***zip***.   "
     ]
    },
    {
     "cell_type": "code",
     "collapsed": false,
     "input": [
      "'''\n",
      "This will ensure the random samples below can be reproduced. \n",
      "This means the random samples will always be identical.\n",
      "'''\n",
      "\n",
      "random.seed?"
     ],
     "language": "python",
     "metadata": {},
     "outputs": [],
     "prompt_number": 4
    },
    {
     "cell_type": "code",
     "collapsed": false,
     "input": [
      "'''\n",
      "randint(low, high=None, size=None)\n",
      "Return random integers from `low` (inclusive) to `high` (exclusive).\n",
      "'''\n",
      "\n",
      "randint?"
     ],
     "language": "python",
     "metadata": {},
     "outputs": [],
     "prompt_number": 5
    },
    {
     "cell_type": "code",
     "collapsed": false,
     "input": [
      "'''\n",
      "len(object) -> integer\n",
      "Return the number of items of a sequence or mapping.\n",
      "'''\n",
      "\n",
      "len?"
     ],
     "language": "python",
     "metadata": {},
     "outputs": [],
     "prompt_number": 6
    },
    {
     "cell_type": "code",
     "collapsed": false,
     "input": [
      "'''\n",
      "range([start,] stop[, step]) -> list of integers\n",
      "Return a list containing an arithmetic progression of integers.\n",
      "'''\n",
      "\n",
      "range?"
     ],
     "language": "python",
     "metadata": {},
     "outputs": [],
     "prompt_number": 7
    },
    {
     "cell_type": "code",
     "collapsed": false,
     "input": [
      "'''\n",
      "zip(seq1 [, seq2 [...]]) -> [(seq1[0], seq2[0] ...), (...)]\n",
      "Return a list of tuples, where each tuple contains the i-th element\n",
      "from each of the argument sequences.  The returned list is truncated\n",
      "in length to the length of the shortest argument sequence.\n",
      "'''\n",
      "\n",
      "zip?"
     ],
     "language": "python",
     "metadata": {},
     "outputs": [],
     "prompt_number": 8
    },
    {
     "cell_type": "markdown",
     "metadata": {},
     "source": [
      "**seed(500)** - Create seed\n",
      "\n",
      "**randint(low=0,high=len(names))** - Generate a random integer between zero and the length of the list \"names\".    \n",
      "\n",
      "**names[n]** - Select the name where its index is equal to n.  \n",
      "\n",
      "**for i in range(n)** - Loop until i is equal to n, i.e. 1,2,3,....n.  \n",
      "\n",
      "**random_names** = Select a random name from the name list and do this n times.  "
     ]
    },
    {
     "cell_type": "code",
     "collapsed": false,
     "input": [
      "seed(500)\n",
      "random_names = [names[randint(low=0,high=len(names))] for i in range(1000)]\n",
      "\n",
      "# Print first 10 records\n",
      "print random_names[:10]"
     ],
     "language": "python",
     "metadata": {},
     "outputs": [
      {
       "output_type": "stream",
       "stream": "stdout",
       "text": [
        "['Mary', 'Jessica', 'Jessica', 'Bob', 'Jessica', 'Jessica', 'Jessica', 'Mary', 'Mary', 'Mary']\n"
       ]
      }
     ],
     "prompt_number": 9
    },
    {
     "cell_type": "markdown",
     "metadata": {},
     "source": [
      "* Generate a random numbers between 0 and 1000    "
     ]
    },
    {
     "cell_type": "code",
     "collapsed": false,
     "input": [
      "# The number of births per name for the year 1880\n",
      "births = [randint(low=0,high=1000) for i in range(1000)]\n",
      "print births[:10]"
     ],
     "language": "python",
     "metadata": {},
     "outputs": [
      {
       "output_type": "stream",
       "stream": "stdout",
       "text": [
        "[968, 155, 77, 578, 973, 124, 155, 403, 199, 191]\n"
       ]
      }
     ],
     "prompt_number": 10
    },
    {
     "cell_type": "markdown",
     "metadata": {},
     "source": [
      "* Merge the ***names*** and the ***births*** data set using the ***zip*** function."
     ]
    },
    {
     "cell_type": "code",
     "collapsed": false,
     "input": [
      "BabyDataSet = zip(random_names,births)\n",
      "print BabyDataSet[:10]"
     ],
     "language": "python",
     "metadata": {},
     "outputs": [
      {
       "output_type": "stream",
       "stream": "stdout",
       "text": [
        "[('Mary', 968), ('Jessica', 155), ('Jessica', 77), ('Bob', 578), ('Jessica', 973), ('Jessica', 124), ('Jessica', 155), ('Mary', 403), ('Mary', 199), ('Mary', 191)]\n"
       ]
      }
     ],
     "prompt_number": 11
    },
    {
     "cell_type": "markdown",
     "metadata": {},
     "source": [
      "We are basically done creating the data set. We now will use the ***pandas*** library to export this data set into a csv file. \n",
      "\n",
      "***df*** will be a ***DataFrame*** object. You can think of this object holding the contents of the BabyDataSet in a format similar to a sql table or an excel spreadsheet. Lets take a look below at the contents inside ***df***."
     ]
    },
    {
     "cell_type": "code",
     "collapsed": false,
     "input": [
      "df = DataFrame(data = BabyDataSet, columns=['Names', 'Births'])\n",
      "df[:10]"
     ],
     "language": "python",
     "metadata": {},
     "outputs": [
      {
       "html": [
        "<div style=\"max-height:1000px;max-width:1500px;overflow:auto;\">\n",
        "<table border=\"1\" class=\"dataframe\">\n",
        "  <thead>\n",
        "    <tr style=\"text-align: right;\">\n",
        "      <th></th>\n",
        "      <th>Names</th>\n",
        "      <th>Births</th>\n",
        "    </tr>\n",
        "  </thead>\n",
        "  <tbody>\n",
        "    <tr>\n",
        "      <th>0</th>\n",
        "      <td>    Mary</td>\n",
        "      <td> 968</td>\n",
        "    </tr>\n",
        "    <tr>\n",
        "      <th>1</th>\n",
        "      <td> Jessica</td>\n",
        "      <td> 155</td>\n",
        "    </tr>\n",
        "    <tr>\n",
        "      <th>2</th>\n",
        "      <td> Jessica</td>\n",
        "      <td>  77</td>\n",
        "    </tr>\n",
        "    <tr>\n",
        "      <th>3</th>\n",
        "      <td>     Bob</td>\n",
        "      <td> 578</td>\n",
        "    </tr>\n",
        "    <tr>\n",
        "      <th>4</th>\n",
        "      <td> Jessica</td>\n",
        "      <td> 973</td>\n",
        "    </tr>\n",
        "    <tr>\n",
        "      <th>5</th>\n",
        "      <td> Jessica</td>\n",
        "      <td> 124</td>\n",
        "    </tr>\n",
        "    <tr>\n",
        "      <th>6</th>\n",
        "      <td> Jessica</td>\n",
        "      <td> 155</td>\n",
        "    </tr>\n",
        "    <tr>\n",
        "      <th>7</th>\n",
        "      <td>    Mary</td>\n",
        "      <td> 403</td>\n",
        "    </tr>\n",
        "    <tr>\n",
        "      <th>8</th>\n",
        "      <td>    Mary</td>\n",
        "      <td> 199</td>\n",
        "    </tr>\n",
        "    <tr>\n",
        "      <th>9</th>\n",
        "      <td>    Mary</td>\n",
        "      <td> 191</td>\n",
        "    </tr>\n",
        "  </tbody>\n",
        "</table>\n",
        "</div>"
       ],
       "output_type": "pyout",
       "prompt_number": 12,
       "text": [
        "     Names  Births\n",
        "0     Mary     968\n",
        "1  Jessica     155\n",
        "2  Jessica      77\n",
        "3      Bob     578\n",
        "4  Jessica     973\n",
        "5  Jessica     124\n",
        "6  Jessica     155\n",
        "7     Mary     403\n",
        "8     Mary     199\n",
        "9     Mary     191"
       ]
      }
     ],
     "prompt_number": 12
    },
    {
     "cell_type": "markdown",
     "metadata": {},
     "source": [
      "* Export the dataframe to a ***text*** file. We can name the file ***births1880.txt***. The function ***to_csv*** will be used to export. The file will be saved in the same location of the notebook unless specified otherwise."
     ]
    },
    {
     "cell_type": "code",
     "collapsed": false,
     "input": [
      "'''\n",
      "df.to_csv(self, path_or_buf, sep=',', na_rep='', float_format=None, cols=None, header=True, index=True, index_label=None, mode='w', nanRep=None, encoding=None, quoting=None, line_terminator='\\n')\n",
      "Write DataFrame to a comma-separated values (csv) file\n",
      "'''\n",
      "\n",
      "df.to_csv?"
     ],
     "language": "python",
     "metadata": {},
     "outputs": [],
     "prompt_number": 13
    },
    {
     "cell_type": "markdown",
     "metadata": {},
     "source": [
      "The only parameters we will use is ***index*** and ***header***. Setting these parameters to True will prevent the index and header names from being exported. Change the values of these parameters to get a better understanding of their use."
     ]
    },
    {
     "cell_type": "code",
     "collapsed": false,
     "input": [
      "df.to_csv('births1880.txt',index=False,header=False)"
     ],
     "language": "python",
     "metadata": {},
     "outputs": [],
     "prompt_number": 14
    },
    {
     "cell_type": "markdown",
     "metadata": {},
     "source": [
      "## Get Data"
     ]
    },
    {
     "cell_type": "markdown",
     "metadata": {},
     "source": [
      "To pull in the text file, we will use the pandas function *read_csv*. Let us take a look at this function and what inputs it takes.  \n",
      "\n",
      "read_csv(filepath_or_buffer, sep=',', dialect=None, compression=None, doublequote=True, escapechar=None, quotechar='\"', quoting=0, skipinitialspace=False, lineterminator=None, header='infer', index_col=None, names=None, prefix=None, skiprows=None, skipfooter=None, skip_footer=0, na_values=None, true_values=None, false_values=None, delimiter=None, converters=None, dtype=None, usecols=None, engine='c', delim_whitespace=False, as_recarray=False, na_filter=True, compact_ints=False, use_unsigned=False, low_memory=True, buffer_lines=None, warn_bad_lines=True, error_bad_lines=True, keep_default_na=True, thousands=None, comment=None, decimal='.', parse_dates=False, keep_date_col=False, dayfirst=False, date_parser=None, memory_map=False, nrows=None, iterator=False, chunksize=None, verbose=False, encoding=None, squeeze=False)"
     ]
    },
    {
     "cell_type": "code",
     "collapsed": false,
     "input": [
      "read_csv?"
     ],
     "language": "python",
     "metadata": {},
     "outputs": [],
     "prompt_number": 15
    },
    {
     "cell_type": "markdown",
     "metadata": {},
     "source": [
      "Even though this functions has many parameters, we will simply pass it the location of the text file.  \n",
      "\n",
      "Location = C:\\Users\\TYPE_USER_NAME\\.xy\\startups\\births1880.txt  \n",
      "\n",
      "***Note:*** Depending on where you save your notebooks, you may need to modify the location above. "
     ]
    },
    {
     "cell_type": "code",
     "collapsed": false,
     "input": [
      "Location = r'C:\\Users\\David\\.xy\\startups\\births1880.txt'\n",
      "df = read_csv(Location)"
     ],
     "language": "python",
     "metadata": {},
     "outputs": [],
     "prompt_number": 16
    },
    {
     "cell_type": "markdown",
     "metadata": {},
     "source": [
      "Notice the ***r*** before the string. Since the slashes are special characters, prefixing the string with a ***r*** will escape the whole string.  "
     ]
    },
    {
     "cell_type": "code",
     "collapsed": false,
     "input": [
      "df"
     ],
     "language": "python",
     "metadata": {},
     "outputs": [
      {
       "output_type": "pyout",
       "prompt_number": 17,
       "text": [
        "<class 'pandas.core.frame.DataFrame'>\n",
        "Int64Index: 999 entries, 0 to 998\n",
        "Data columns:\n",
        "Mary    999  non-null values\n",
        "968     999  non-null values\n",
        "dtypes: int64(1), object(1)"
       ]
      }
     ],
     "prompt_number": 17
    },
    {
     "cell_type": "markdown",
     "metadata": {},
     "source": [
      "When the dataframe is large, pandas will print out a summary of the data.  \n",
      "\n",
      "Summary says:  \n",
      "* There are ***999*** records in the data set  \n",
      "* There is a column named ***Mary*** with 999 values  \n",
      "* There is a column named ***539*** with 999 values  \n",
      "* Out of the ***two*** columns, one is ***numeric***, the other is ***non numeric***  "
     ]
    },
    {
     "cell_type": "markdown",
     "metadata": {},
     "source": [
      "To actually see the contents of the dataframe we can use the ***head()*** function which by default will return the first five records. You can also pass in a number n to return the top n records of the dataframe. "
     ]
    },
    {
     "cell_type": "code",
     "collapsed": false,
     "input": [
      "df.head()"
     ],
     "language": "python",
     "metadata": {},
     "outputs": [
      {
       "html": [
        "<div style=\"max-height:1000px;max-width:1500px;overflow:auto;\">\n",
        "<table border=\"1\" class=\"dataframe\">\n",
        "  <thead>\n",
        "    <tr style=\"text-align: right;\">\n",
        "      <th></th>\n",
        "      <th>Mary</th>\n",
        "      <th>968</th>\n",
        "    </tr>\n",
        "  </thead>\n",
        "  <tbody>\n",
        "    <tr>\n",
        "      <th>0</th>\n",
        "      <td> Jessica</td>\n",
        "      <td> 155</td>\n",
        "    </tr>\n",
        "    <tr>\n",
        "      <th>1</th>\n",
        "      <td> Jessica</td>\n",
        "      <td>  77</td>\n",
        "    </tr>\n",
        "    <tr>\n",
        "      <th>2</th>\n",
        "      <td>     Bob</td>\n",
        "      <td> 578</td>\n",
        "    </tr>\n",
        "    <tr>\n",
        "      <th>3</th>\n",
        "      <td> Jessica</td>\n",
        "      <td> 973</td>\n",
        "    </tr>\n",
        "    <tr>\n",
        "      <th>4</th>\n",
        "      <td> Jessica</td>\n",
        "      <td> 124</td>\n",
        "    </tr>\n",
        "  </tbody>\n",
        "</table>\n",
        "</div>"
       ],
       "output_type": "pyout",
       "prompt_number": 18,
       "text": [
        "      Mary  968\n",
        "0  Jessica  155\n",
        "1  Jessica   77\n",
        "2      Bob  578\n",
        "3  Jessica  973\n",
        "4  Jessica  124"
       ]
      }
     ],
     "prompt_number": 18
    },
    {
     "cell_type": "markdown",
     "metadata": {},
     "source": [
      "This brings us the our first problem of the exercise. The ***read_csv*** function treated the first record in the text file as the header names. This is obviously not correct since the text file did not provide us with header names.  \n",
      "\n",
      "To correct this we will pass the ***header*** parameter to the *read_csv* function and set it to ***None*** (means null in python)."
     ]
    },
    {
     "cell_type": "code",
     "collapsed": false,
     "input": [
      "df = read_csv(Location, header=None)\n",
      "df"
     ],
     "language": "python",
     "metadata": {},
     "outputs": [
      {
       "output_type": "pyout",
       "prompt_number": 19,
       "text": [
        "<class 'pandas.core.frame.DataFrame'>\n",
        "Int64Index: 1000 entries, 0 to 999\n",
        "Data columns:\n",
        "0    1000  non-null values\n",
        "1    1000  non-null values\n",
        "dtypes: int64(1), object(1)"
       ]
      }
     ],
     "prompt_number": 19
    },
    {
     "cell_type": "markdown",
     "metadata": {},
     "source": [
      "Summary now says:  \n",
      "* There are ***1000*** records in the data set  \n",
      "* There is a column named ***0*** with 1000 values  \n",
      "* There is a column named ***1*** with 1000 values  \n",
      "* Out of the ***two*** columns, one is ***numeric***, the other is ***non numeric***  \n",
      "\n",
      "Now lets take a look at the last five records of the dataframe"
     ]
    },
    {
     "cell_type": "code",
     "collapsed": false,
     "input": [
      "df.tail()"
     ],
     "language": "python",
     "metadata": {},
     "outputs": [
      {
       "html": [
        "<div style=\"max-height:1000px;max-width:1500px;overflow:auto;\">\n",
        "<table border=\"1\" class=\"dataframe\">\n",
        "  <thead>\n",
        "    <tr style=\"text-align: right;\">\n",
        "      <th></th>\n",
        "      <th>0</th>\n",
        "      <th>1</th>\n",
        "    </tr>\n",
        "  </thead>\n",
        "  <tbody>\n",
        "    <tr>\n",
        "      <th>995</th>\n",
        "      <td>    John</td>\n",
        "      <td> 151</td>\n",
        "    </tr>\n",
        "    <tr>\n",
        "      <th>996</th>\n",
        "      <td> Jessica</td>\n",
        "      <td> 511</td>\n",
        "    </tr>\n",
        "    <tr>\n",
        "      <th>997</th>\n",
        "      <td>    John</td>\n",
        "      <td> 756</td>\n",
        "    </tr>\n",
        "    <tr>\n",
        "      <th>998</th>\n",
        "      <td> Jessica</td>\n",
        "      <td> 294</td>\n",
        "    </tr>\n",
        "    <tr>\n",
        "      <th>999</th>\n",
        "      <td>    John</td>\n",
        "      <td> 152</td>\n",
        "    </tr>\n",
        "  </tbody>\n",
        "</table>\n",
        "</div>"
       ],
       "output_type": "pyout",
       "prompt_number": 20,
       "text": [
        "           0    1\n",
        "995     John  151\n",
        "996  Jessica  511\n",
        "997     John  756\n",
        "998  Jessica  294\n",
        "999     John  152"
       ]
      }
     ],
     "prompt_number": 20
    },
    {
     "cell_type": "markdown",
     "metadata": {},
     "source": [
      "If we wanted to give the columns specific names, we would have to pass another paramter called ***names***. We can also omit the *header* parameter."
     ]
    },
    {
     "cell_type": "code",
     "collapsed": false,
     "input": [
      "df = read_csv(Location, names=['Names','Births'])\n",
      "df.head(5)"
     ],
     "language": "python",
     "metadata": {},
     "outputs": [
      {
       "html": [
        "<div style=\"max-height:1000px;max-width:1500px;overflow:auto;\">\n",
        "<table border=\"1\" class=\"dataframe\">\n",
        "  <thead>\n",
        "    <tr style=\"text-align: right;\">\n",
        "      <th></th>\n",
        "      <th>Names</th>\n",
        "      <th>Births</th>\n",
        "    </tr>\n",
        "  </thead>\n",
        "  <tbody>\n",
        "    <tr>\n",
        "      <th>0</th>\n",
        "      <td>    Mary</td>\n",
        "      <td> 968</td>\n",
        "    </tr>\n",
        "    <tr>\n",
        "      <th>1</th>\n",
        "      <td> Jessica</td>\n",
        "      <td> 155</td>\n",
        "    </tr>\n",
        "    <tr>\n",
        "      <th>2</th>\n",
        "      <td> Jessica</td>\n",
        "      <td>  77</td>\n",
        "    </tr>\n",
        "    <tr>\n",
        "      <th>3</th>\n",
        "      <td>     Bob</td>\n",
        "      <td> 578</td>\n",
        "    </tr>\n",
        "    <tr>\n",
        "      <th>4</th>\n",
        "      <td> Jessica</td>\n",
        "      <td> 973</td>\n",
        "    </tr>\n",
        "  </tbody>\n",
        "</table>\n",
        "</div>"
       ],
       "output_type": "pyout",
       "prompt_number": 21,
       "text": [
        "     Names  Births\n",
        "0     Mary     968\n",
        "1  Jessica     155\n",
        "2  Jessica      77\n",
        "3      Bob     578\n",
        "4  Jessica     973"
       ]
      }
     ],
     "prompt_number": 21
    },
    {
     "cell_type": "markdown",
     "metadata": {},
     "source": [
      "You can think of the numbers [0,1,2,3,4,...] as the row numbers in an Excel file. In pandas these are part of the ***index*** of the dataframe. You can think of the index as the primary key of a sql table with the exception that an index is allowed to have duplicates.  \n",
      "\n",
      "[Names, Births] can be though of as column headers similar to the ones found in an Excel spreadsheet or sql database."
     ]
    },
    {
     "cell_type": "markdown",
     "metadata": {},
     "source": [
      "Delete the csv file now that we are done using it."
     ]
    },
    {
     "cell_type": "code",
     "collapsed": false,
     "input": [
      "import os\n",
      "os.remove(Location)"
     ],
     "language": "python",
     "metadata": {},
     "outputs": [],
     "prompt_number": 22
    },
    {
     "cell_type": "markdown",
     "metadata": {},
     "source": [
      "## Prepare Data"
     ]
    },
    {
     "cell_type": "markdown",
     "metadata": {},
     "source": [
      "The data we have consists of baby names and the number of births in the year 1880. We already know that we have 999 records and none of the records are missing (non-null values). We can verify the \"Names\" column still only has five unique names.  \n",
      "\n",
      "We can use the ***unique*** property of the dataframe to find all the unique records of the \"Names\" column."
     ]
    },
    {
     "cell_type": "code",
     "collapsed": false,
     "input": [
      "# Method 1:\n",
      "df['Names'].unique()"
     ],
     "language": "python",
     "metadata": {},
     "outputs": [
      {
       "output_type": "pyout",
       "prompt_number": 23,
       "text": [
        "array([Mary, Jessica, Bob, John, Mel], dtype=object)"
       ]
      }
     ],
     "prompt_number": 23
    },
    {
     "cell_type": "code",
     "collapsed": false,
     "input": [
      "# If you actually want to print the unique values:\n",
      "for x in df['Names'].unique():\n",
      "    print x"
     ],
     "language": "python",
     "metadata": {},
     "outputs": [
      {
       "output_type": "stream",
       "stream": "stdout",
       "text": [
        "Mary\n",
        "Jessica\n",
        "Bob\n",
        "John\n",
        "Mel\n"
       ]
      }
     ],
     "prompt_number": 24
    },
    {
     "cell_type": "code",
     "collapsed": false,
     "input": [
      "# Method 2:\n",
      "print df['Names'].describe()"
     ],
     "language": "python",
     "metadata": {},
     "outputs": [
      {
       "output_type": "stream",
       "stream": "stdout",
       "text": [
        "count     1000\n",
        "unique       5\n",
        "top        Bob\n",
        "freq       206\n"
       ]
      }
     ],
     "prompt_number": 25
    },
    {
     "cell_type": "markdown",
     "metadata": {},
     "source": [
      "Since we have multiple values per baby name, we need to aggregate this data so we only have a baby name appear once. This means the 1,000 rows will need to become 5. We can accomplish this by using the ***groupby*** function. "
     ]
    },
    {
     "cell_type": "code",
     "collapsed": false,
     "input": [
      "'''\n",
      "df.groupby(self, by=None, axis=0, level=None, as_index=True, sort=True, group_keys=True)\n",
      "Group series using mapper (dict or key function, apply given function\n",
      "to group, return result as series) or by a series of columns\n",
      "'''\n",
      "\n",
      "df.groupby?"
     ],
     "language": "python",
     "metadata": {},
     "outputs": [],
     "prompt_number": 26
    },
    {
     "cell_type": "code",
     "collapsed": false,
     "input": [
      "# Create a groupby onject\n",
      "Name = df.groupby(df['Names'])\n",
      "\n",
      "# Apply the sum function to the groupby object\n",
      "df = Name.sum()\n",
      "df"
     ],
     "language": "python",
     "metadata": {},
     "outputs": [
      {
       "html": [
        "<div style=\"max-height:1000px;max-width:1500px;overflow:auto;\">\n",
        "<table border=\"1\" class=\"dataframe\">\n",
        "  <thead>\n",
        "    <tr style=\"text-align: right;\">\n",
        "      <th></th>\n",
        "      <th>Births</th>\n",
        "    </tr>\n",
        "    <tr>\n",
        "      <th>Names</th>\n",
        "      <th></th>\n",
        "    </tr>\n",
        "  </thead>\n",
        "  <tbody>\n",
        "    <tr>\n",
        "      <th>Bob</th>\n",
        "      <td> 106817</td>\n",
        "    </tr>\n",
        "    <tr>\n",
        "      <th>Jessica</th>\n",
        "      <td>  97826</td>\n",
        "    </tr>\n",
        "    <tr>\n",
        "      <th>John</th>\n",
        "      <td>  90705</td>\n",
        "    </tr>\n",
        "    <tr>\n",
        "      <th>Mary</th>\n",
        "      <td>  99438</td>\n",
        "    </tr>\n",
        "    <tr>\n",
        "      <th>Mel</th>\n",
        "      <td> 102319</td>\n",
        "    </tr>\n",
        "  </tbody>\n",
        "</table>\n",
        "</div>"
       ],
       "output_type": "pyout",
       "prompt_number": 27,
       "text": [
        "         Births\n",
        "Names          \n",
        "Bob      106817\n",
        "Jessica   97826\n",
        "John      90705\n",
        "Mary      99438\n",
        "Mel      102319"
       ]
      }
     ],
     "prompt_number": 27
    },
    {
     "cell_type": "markdown",
     "metadata": {},
     "source": [
      "## Analyze Data"
     ]
    },
    {
     "cell_type": "markdown",
     "metadata": {},
     "source": [
      "To find the most popular name or the baby name with the higest birth rate, we can do one of the following.  \n",
      "\n",
      "* Sort the dataframe and select the top row\n",
      "* Use the ***max()*** attribute to find the maximum value"
     ]
    },
    {
     "cell_type": "code",
     "collapsed": false,
     "input": [
      "# Method 1:\n",
      "Sorted = df.sort(['Births'], ascending=[0])\n",
      "Sorted.head(1)"
     ],
     "language": "python",
     "metadata": {},
     "outputs": [
      {
       "html": [
        "<div style=\"max-height:1000px;max-width:1500px;overflow:auto;\">\n",
        "<table border=\"1\" class=\"dataframe\">\n",
        "  <thead>\n",
        "    <tr style=\"text-align: right;\">\n",
        "      <th></th>\n",
        "      <th>Births</th>\n",
        "    </tr>\n",
        "    <tr>\n",
        "      <th>Names</th>\n",
        "      <th></th>\n",
        "    </tr>\n",
        "  </thead>\n",
        "  <tbody>\n",
        "    <tr>\n",
        "      <th>Bob</th>\n",
        "      <td> 106817</td>\n",
        "    </tr>\n",
        "  </tbody>\n",
        "</table>\n",
        "</div>"
       ],
       "output_type": "pyout",
       "prompt_number": 28,
       "text": [
        "       Births\n",
        "Names        \n",
        "Bob    106817"
       ]
      }
     ],
     "prompt_number": 28
    },
    {
     "cell_type": "code",
     "collapsed": false,
     "input": [
      "# Method 2:\n",
      "df['Births'].max()"
     ],
     "language": "python",
     "metadata": {},
     "outputs": [
      {
       "output_type": "pyout",
       "prompt_number": 29,
       "text": [
        "106817.0"
       ]
      }
     ],
     "prompt_number": 29
    },
    {
     "cell_type": "markdown",
     "metadata": {},
     "source": [
      "## Present Data"
     ]
    },
    {
     "cell_type": "markdown",
     "metadata": {},
     "source": [
      "Here we can plot the ***Births*** column and label the graph to show the end user the highest point on the graph. In conjunction with the table, the end user has a clear picture that **Bob** is the most popular baby name in the data set. \n",
      "\n",
      "***plot()*** is a convinient attribute where pandas lets you painlessly plot the data in your dataframe. We learned how to find the maximum value of the Births column in the previous section. Now to find the actual baby name of the 998 value looks a bit tricky, so lets go over it.  \n",
      "\n",
      "**Explain the pieces:**  \n",
      "*df['Names']* - This is the entire list of baby names, the entire Names column  \n",
      "*df['Births']* - This is the entire list of Births in the year 1880, the entire Births column  \n",
      "*df['Births'].max()* - This is the maximum value found in the Births column  \n",
      "\n",
      "[df['Births'] == df['Births'].max()] **IS EQUAL TO** [Find all of the records in the Births column where it is equal to 998]  \n",
      "df['Names'][df['Births'] == df['Births'].max()] **IS EQUAL TO** Select all of the records in the Names column **WHERE** [The Births column is equal to 998]  \n",
      "\n",
      "An alternative way could have been to use the ***Sorted*** dataframe:  \n",
      "Sorted['Names'].head(1).value  \n",
      "\n",
      "The ***str()*** function simply converts an object into a string.  "
     ]
    },
    {
     "cell_type": "code",
     "collapsed": false,
     "input": [
      "# Create graph\n",
      "df['Births'].plot()\n",
      "\n",
      "# Maximum value in the data set\n",
      "MaxValue = df['Births'].max()\n",
      "\n",
      "# Name associated with the maximum value\n",
      "MaxName = df[df['Births'] == df['Births'].max()].index[0]\n",
      "\n",
      "# Text to display on graph\n",
      "Text = str(MaxValue) + \" - \" + MaxName\n",
      "\n",
      "# Add text to graph\n",
      "plt.annotate(Text, xy=(1, MaxValue), xytext=(8, 0), \n",
      "                 xycoords=('axes fraction', 'data'), textcoords='offset points')\n",
      "\n",
      "print \"The most popular name\"\n",
      "df[df['Births'] == df['Births'].max()]\n",
      "#Sorted.head(1) can also be used"
     ],
     "language": "python",
     "metadata": {},
     "outputs": [
      {
       "output_type": "stream",
       "stream": "stdout",
       "text": [
        "The most popular name\n"
       ]
      },
      {
       "html": [
        "<div style=\"max-height:1000px;max-width:1500px;overflow:auto;\">\n",
        "<table border=\"1\" class=\"dataframe\">\n",
        "  <thead>\n",
        "    <tr style=\"text-align: right;\">\n",
        "      <th></th>\n",
        "      <th>Births</th>\n",
        "    </tr>\n",
        "    <tr>\n",
        "      <th>Names</th>\n",
        "      <th></th>\n",
        "    </tr>\n",
        "  </thead>\n",
        "  <tbody>\n",
        "    <tr>\n",
        "      <th>Bob</th>\n",
        "      <td> 106817</td>\n",
        "    </tr>\n",
        "  </tbody>\n",
        "</table>\n",
        "</div>"
       ],
       "output_type": "pyout",
       "prompt_number": 30,
       "text": [
        "       Births\n",
        "Names        \n",
        "Bob    106817"
       ]
      },
      {
       "output_type": "display_data",
       "png": "[encoded data removed]"
      }
     ],
     "prompt_number": 30
    }
   ],
   "metadata": {}
  }
 ]
}