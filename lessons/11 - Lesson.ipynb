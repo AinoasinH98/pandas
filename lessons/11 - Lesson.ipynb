{
 "metadata": {
  "name": "11 - Lesson"
 },
 "nbformat": 3,
 "nbformat_minor": 0,
 "worksheets": [
  {
   "cells": [
    {
     "cell_type": "markdown",
     "metadata": {},
     "source": [
      "# Lesson 11  \n",
      "\n",
      "Grab data from multiple excel files and merge them into a single dataframe."
     ]
    },
    {
     "cell_type": "code",
     "collapsed": false,
     "input": [
      "from pandas import DataFrame, ExcelFile\n",
      "import pandas as pd\n",
      "import os"
     ],
     "language": "python",
     "metadata": {},
     "outputs": [],
     "prompt_number": 1
    },
    {
     "cell_type": "code",
     "collapsed": false,
     "input": [
      "print 'Pandas version: ' + pd.__version__"
     ],
     "language": "python",
     "metadata": {},
     "outputs": [
      {
       "output_type": "stream",
       "stream": "stdout",
       "text": [
        "Pandas version: 0.10.1\n"
       ]
      }
     ],
     "prompt_number": 2
    },
    {
     "cell_type": "markdown",
     "metadata": {},
     "source": [
      "# Ctreate 3 excel files"
     ]
    },
    {
     "cell_type": "code",
     "collapsed": false,
     "input": [
      "# Create DataFrame\n",
      "d = {'Channel':[1], 'Number':[255]}\n",
      "df = DataFrame(d)\n",
      "df"
     ],
     "language": "python",
     "metadata": {},
     "outputs": [
      {
       "html": [
        "<div style=\"max-height:1000px;max-width:1500px;overflow:auto;\">\n",
        "<table border=\"1\" class=\"dataframe\">\n",
        "  <thead>\n",
        "    <tr style=\"text-align: right;\">\n",
        "      <th></th>\n",
        "      <th>Channel</th>\n",
        "      <th>Number</th>\n",
        "    </tr>\n",
        "  </thead>\n",
        "  <tbody>\n",
        "    <tr>\n",
        "      <th>0</th>\n",
        "      <td> 1</td>\n",
        "      <td> 255</td>\n",
        "    </tr>\n",
        "  </tbody>\n",
        "</table>\n",
        "</div>"
       ],
       "output_type": "pyout",
       "prompt_number": 3,
       "text": [
        "   Channel  Number\n",
        "0        1     255"
       ]
      }
     ],
     "prompt_number": 3
    },
    {
     "cell_type": "code",
     "collapsed": false,
     "input": [
      "# Export to Excel\n",
      "\n",
      "df.to_excel('test1.xlsx', sheet_name = 'test1', index = False)\n",
      "df.to_excel('test2.xlsx', sheet_name = 'test2', index = False)\n",
      "df.to_excel('test3.xlsx', sheet_name = 'test3', index = False)\n",
      "print 'Done'"
     ],
     "language": "python",
     "metadata": {},
     "outputs": [
      {
       "output_type": "stream",
       "stream": "stdout",
       "text": [
        "Done\n"
       ]
      }
     ],
     "prompt_number": 4
    },
    {
     "cell_type": "markdown",
     "metadata": {},
     "source": [
      "# Place all three Excel files into a DataFrame"
     ]
    },
    {
     "cell_type": "markdown",
     "metadata": {},
     "source": [
      "Get a list of file names"
     ]
    },
    {
     "cell_type": "code",
     "collapsed": false,
     "input": [
      "# List to hold file names\n",
      "FileNames = []\n",
      "\n",
      "# Your path will be different, please modify the path below.\n",
      "os.chdir(\"C:\\Users\\David\\.xy\\startups\")\n",
      "\n",
      "# Find any file that ends with \".xlsx\"\n",
      "for files in os.listdir(\".\"):\n",
      "    if files.endswith(\".xlsx\"):\n",
      "        FileNames.append(files)\n",
      "        \n",
      "FileNames"
     ],
     "language": "python",
     "metadata": {},
     "outputs": [
      {
       "output_type": "pyout",
       "prompt_number": 5,
       "text": [
        "['test1.xlsx', 'test2.xlsx', 'test3.xlsx']"
       ]
      }
     ],
     "prompt_number": 5
    },
    {
     "cell_type": "markdown",
     "metadata": {},
     "source": [
      "Create a function to process all of the excel files."
     ]
    },
    {
     "cell_type": "code",
     "collapsed": false,
     "input": [
      "def GetFile(fnombre):\n",
      "\n",
      "    # Path to excel file\n",
      "    # Your path will be different, please modify the path below.\n",
      "    location = r'C:\\Users\\David\\.xy\\startups\\\\' + fnombre\n",
      "    \n",
      "    # Create ExcelFile object\n",
      "    xls = ExcelFile(location)\n",
      "    \n",
      "    # Parse the excel file\n",
      "    # xls.sheet_names[0] = first sheet\n",
      "    df = xls.parse(xls.sheet_names[0])\n",
      "    \n",
      "    # Tag record to file name\n",
      "    df['File'] = fnombre\n",
      "    \n",
      "    # Make the \"File\" column the index of the df\n",
      "    return df.set_index(['File'])"
     ],
     "language": "python",
     "metadata": {},
     "outputs": [],
     "prompt_number": 18
    },
    {
     "cell_type": "markdown",
     "metadata": {},
     "source": [
      "Go through each file name, create a dataframe, and add it to a list.  \n",
      "\n",
      "i.e.  \n",
      "df_list = [df, df, df]"
     ]
    },
    {
     "cell_type": "code",
     "collapsed": false,
     "input": [
      "# Create a list of dataframes\n",
      "df_list = [GetFile(fname) for fname in FileNames]\n",
      "df_list"
     ],
     "language": "python",
     "metadata": {},
     "outputs": [
      {
       "output_type": "pyout",
       "prompt_number": 21,
       "text": [
        "[            Channel  Number\n",
        "File                       \n",
        "test1.xlsx        1     255,\n",
        "             Channel  Number\n",
        "File                       \n",
        "test2.xlsx        1     255,\n",
        "             Channel  Number\n",
        "File                       \n",
        "test3.xlsx        1     255]"
       ]
      }
     ],
     "prompt_number": 21
    },
    {
     "cell_type": "code",
     "collapsed": false,
     "input": [
      "# Combine all of the dataframes into one\n",
      "big_df = pd.concat(df_list)\n",
      "big_df"
     ],
     "language": "python",
     "metadata": {},
     "outputs": [
      {
       "html": [
        "<div style=\"max-height:1000px;max-width:1500px;overflow:auto;\">\n",
        "<table border=\"1\" class=\"dataframe\">\n",
        "  <thead>\n",
        "    <tr style=\"text-align: right;\">\n",
        "      <th></th>\n",
        "      <th>Channel</th>\n",
        "      <th>Number</th>\n",
        "    </tr>\n",
        "    <tr>\n",
        "      <th>File</th>\n",
        "      <th></th>\n",
        "      <th></th>\n",
        "    </tr>\n",
        "  </thead>\n",
        "  <tbody>\n",
        "    <tr>\n",
        "      <th>test1.xlsx</th>\n",
        "      <td> 1</td>\n",
        "      <td> 255</td>\n",
        "    </tr>\n",
        "    <tr>\n",
        "      <th>test2.xlsx</th>\n",
        "      <td> 1</td>\n",
        "      <td> 255</td>\n",
        "    </tr>\n",
        "    <tr>\n",
        "      <th>test3.xlsx</th>\n",
        "      <td> 1</td>\n",
        "      <td> 255</td>\n",
        "    </tr>\n",
        "  </tbody>\n",
        "</table>\n",
        "</div>"
       ],
       "output_type": "pyout",
       "prompt_number": 22,
       "text": [
        "            Channel  Number\n",
        "File                       \n",
        "test1.xlsx        1     255\n",
        "test2.xlsx        1     255\n",
        "test3.xlsx        1     255"
       ]
      }
     ],
     "prompt_number": 22
    },
    {
     "cell_type": "code",
     "collapsed": false,
     "input": [
      "big_df.dtypes"
     ],
     "language": "python",
     "metadata": {},
     "outputs": [
      {
       "output_type": "pyout",
       "prompt_number": 23,
       "text": [
        "Channel    float64\n",
        "Number     float64"
       ]
      }
     ],
     "prompt_number": 23
    },
    {
     "cell_type": "code",
     "collapsed": false,
     "input": [
      "# Correct data types\n",
      "big_df['Channel'] = big_df['Channel'].astype('int')\n",
      "big_df['Number'] = big_df['Number'].astype('int')\n",
      "big_df.dtypes"
     ],
     "language": "python",
     "metadata": {},
     "outputs": [
      {
       "output_type": "pyout",
       "prompt_number": 24,
       "text": [
        "Channel    int64\n",
        "Number     int64"
       ]
      }
     ],
     "prompt_number": 24
    },
    {
     "cell_type": "code",
     "collapsed": false,
     "input": [
      "# Plot it!\n",
      "big_df.plot(kind='bar')"
     ],
     "language": "python",
     "metadata": {},
     "outputs": [
      {
       "output_type": "pyout",
       "prompt_number": 34,
       "text": [
        "<matplotlib.axes.AxesSubplot at 0x5e71430>"
       ]
      },
      {
       "output_type": "display_data",
       "png": "[encoded data removed]"
      }
     ],
     "prompt_number": 34
    }
   ],
   "metadata": {}
  }
 ]
}